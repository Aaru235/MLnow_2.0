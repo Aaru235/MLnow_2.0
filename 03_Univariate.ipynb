{
  "nbformat": 4,
  "nbformat_minor": 0,
  "metadata": {
    "colab": {
      "name": "03_Univariate.ipynb",
      "provenance": [],
      "authorship_tag": "ABX9TyMvC1cBVcSthkBcVyJHRgEt",
      "include_colab_link": true
    },
    "kernelspec": {
      "name": "python3",
      "display_name": "Python 3"
    },
    "language_info": {
      "name": "python"
    }
  },
  "cells": [
    {
      "cell_type": "markdown",
      "metadata": {
        "id": "view-in-github",
        "colab_type": "text"
      },
      "source": [
        "<a href=\"https://colab.research.google.com/github/Aaru235/MLnow_2.0/blob/main/03_Univariate.ipynb\" target=\"_parent\"><img src=\"https://colab.research.google.com/assets/colab-badge.svg\" alt=\"Open In Colab\"/></a>"
      ]
    },
    {
      "cell_type": "markdown",
      "metadata": {
        "id": "KwNfKTbT_s-c"
      },
      "source": [
        "> This notebook was created for code illustration of the `ML.now()` course\n",
        "\n",
        "\n",
        "`Univariate Linear Regression`\n",
        "\n",
        "[Link to Download the dataset](https://www.kaggle.com/jackdaoud/animal-shelter-analytics?select=Austin_Animal_Center_Intakes.csv)\n",
        "\n",
        "**Date Created**: June 11, 2021\n",
        "\n",
        "\n",
        "**Author**:\n",
        " Saloni Jain \n",
        "\n",
        "**Reach out**:\n",
        "[Email](aarushvyas23@gmail.com) | [GitHub](https://github.com/Aaru235) | [LinkedIn](https://www.linkedin.com/in/aarushi-vyass-a43861209/)\n",
        "\n",
        "[[Course Repository](https://github.com/Aaru235/MLnow_2.0)]"
      ]
    },
    {
      "cell_type": "code",
      "metadata": {
        "colab": {
          "base_uri": "https://localhost:8080/"
        },
        "id": "2MnLGAE3fFCC",
        "outputId": "23b71859-7fea-4c65-f601-3b8436ac7d0f"
      },
      "source": [
        "from google.colab import drive\n",
        "drive.mount('/content/drive')"
      ],
      "execution_count": 1,
      "outputs": [
        {
          "output_type": "stream",
          "text": [
            "Mounted at /content/drive\n"
          ],
          "name": "stdout"
        }
      ]
    },
    {
      "cell_type": "code",
      "metadata": {
        "colab": {
          "base_uri": "https://localhost:8080/"
        },
        "id": "MNOVxRn7fXmY",
        "outputId": "64127a22-74aa-4e9e-8b61-0fb4292b559a"
      },
      "source": [
        "cd '/content/drive/MyDrive/Assessment/Toys'"
      ],
      "execution_count": 2,
      "outputs": [
        {
          "output_type": "stream",
          "text": [
            "/content/drive/MyDrive/Assessment/Toys\n"
          ],
          "name": "stdout"
        }
      ]
    },
    {
      "cell_type": "code",
      "metadata": {
        "colab": {
          "base_uri": "https://localhost:8080/"
        },
        "id": "x1iQ71-Hf4A2",
        "outputId": "1b61bc99-811b-4813-bcb1-3c0eea8b1cd4"
      },
      "source": [
        "ls"
      ],
      "execution_count": 3,
      "outputs": [
        {
          "output_type": "stream",
          "text": [
            "AnimalShelter_univariate_data.csv  charts.csv\n",
            "Austin_Animal_Center_Intakes.csv   toy_dataset.csv\n"
          ],
          "name": "stdout"
        }
      ]
    },
    {
      "cell_type": "code",
      "metadata": {
        "id": "MTKoZ7tgf76-"
      },
      "source": [
        "import pandas as pd #working with csv or excel files\n",
        "import numpy as np #working with numbers/ arrays/ tensors\n",
        "import tensorflow as tf #framework\n",
        "from tensorflow import keras #API / library \n",
        "import os #using os commands between the python language"
      ],
      "execution_count": 4,
      "outputs": []
    },
    {
      "cell_type": "code",
      "metadata": {
        "id": "8wsdTjKpgB6f"
      },
      "source": [
        "Data = pd.read_csv('Austin_Animal_Center_Intakes.csv')"
      ],
      "execution_count": 5,
      "outputs": []
    },
    {
      "cell_type": "code",
      "metadata": {
        "colab": {
          "base_uri": "https://localhost:8080/",
          "height": 763
        },
        "id": "DlrXqlQ2j4qK",
        "outputId": "18227f52-6c6f-46be-f234-9e805bb5e151"
      },
      "source": [
        "Data.head(10) #print the first ten rows of the dataframe"
      ],
      "execution_count": 6,
      "outputs": [
        {
          "output_type": "execute_result",
          "data": {
            "text/html": [
              "<div>\n",
              "<style scoped>\n",
              "    .dataframe tbody tr th:only-of-type {\n",
              "        vertical-align: middle;\n",
              "    }\n",
              "\n",
              "    .dataframe tbody tr th {\n",
              "        vertical-align: top;\n",
              "    }\n",
              "\n",
              "    .dataframe thead th {\n",
              "        text-align: right;\n",
              "    }\n",
              "</style>\n",
              "<table border=\"1\" class=\"dataframe\">\n",
              "  <thead>\n",
              "    <tr style=\"text-align: right;\">\n",
              "      <th></th>\n",
              "      <th>Animal ID</th>\n",
              "      <th>Name</th>\n",
              "      <th>DateTime</th>\n",
              "      <th>MonthYear</th>\n",
              "      <th>Found Location</th>\n",
              "      <th>IntakeType</th>\n",
              "      <th>IntakeCondition</th>\n",
              "      <th>AnimalType</th>\n",
              "      <th>Sex upon Intake</th>\n",
              "      <th>Age upon Intake</th>\n",
              "      <th>Breed</th>\n",
              "      <th>Color</th>\n",
              "    </tr>\n",
              "  </thead>\n",
              "  <tbody>\n",
              "    <tr>\n",
              "      <th>0</th>\n",
              "      <td>A786884</td>\n",
              "      <td>*Brock</td>\n",
              "      <td>1/3/2019 16:19</td>\n",
              "      <td>1/3/2019 16:19</td>\n",
              "      <td>2501 Magin Meadow Dr in Austin (TX)</td>\n",
              "      <td>Stray</td>\n",
              "      <td>Normal</td>\n",
              "      <td>Dog</td>\n",
              "      <td>Neutered Male</td>\n",
              "      <td>2 years</td>\n",
              "      <td>Beagle Mix</td>\n",
              "      <td>Tricolor</td>\n",
              "    </tr>\n",
              "    <tr>\n",
              "      <th>1</th>\n",
              "      <td>A706918</td>\n",
              "      <td>Belle</td>\n",
              "      <td>7/5/2015 12:59</td>\n",
              "      <td>7/5/2015 12:59</td>\n",
              "      <td>9409 Bluegrass Dr in Austin (TX)</td>\n",
              "      <td>Stray</td>\n",
              "      <td>Normal</td>\n",
              "      <td>Dog</td>\n",
              "      <td>Spayed Female</td>\n",
              "      <td>8 years</td>\n",
              "      <td>English Springer Spaniel</td>\n",
              "      <td>White/Liver</td>\n",
              "    </tr>\n",
              "    <tr>\n",
              "      <th>2</th>\n",
              "      <td>A724273</td>\n",
              "      <td>Runster</td>\n",
              "      <td>4/14/2016 18:43</td>\n",
              "      <td>4/14/2016 18:43</td>\n",
              "      <td>2818 Palomino Trail in Austin (TX)</td>\n",
              "      <td>Stray</td>\n",
              "      <td>Normal</td>\n",
              "      <td>Dog</td>\n",
              "      <td>Intact Male</td>\n",
              "      <td>11 months</td>\n",
              "      <td>Basenji Mix</td>\n",
              "      <td>Sable/White</td>\n",
              "    </tr>\n",
              "    <tr>\n",
              "      <th>3</th>\n",
              "      <td>A665644</td>\n",
              "      <td>NaN</td>\n",
              "      <td>10/21/2013 7:59</td>\n",
              "      <td>10/21/2013 7:59</td>\n",
              "      <td>Austin (TX)</td>\n",
              "      <td>Stray</td>\n",
              "      <td>Sick</td>\n",
              "      <td>Cat</td>\n",
              "      <td>Intact Female</td>\n",
              "      <td>4 weeks</td>\n",
              "      <td>Domestic Shorthair Mix</td>\n",
              "      <td>Calico</td>\n",
              "    </tr>\n",
              "    <tr>\n",
              "      <th>4</th>\n",
              "      <td>A682524</td>\n",
              "      <td>Rio</td>\n",
              "      <td>6/29/2014 10:38</td>\n",
              "      <td>6/29/2014 10:38</td>\n",
              "      <td>800 Grove Blvd in Austin (TX)</td>\n",
              "      <td>Stray</td>\n",
              "      <td>Normal</td>\n",
              "      <td>Dog</td>\n",
              "      <td>Neutered Male</td>\n",
              "      <td>4 years</td>\n",
              "      <td>Doberman Pinsch/Australian Cattle Dog</td>\n",
              "      <td>Tan/Gray</td>\n",
              "    </tr>\n",
              "    <tr>\n",
              "      <th>5</th>\n",
              "      <td>A743852</td>\n",
              "      <td>Odin</td>\n",
              "      <td>2/18/2017 12:46</td>\n",
              "      <td>2/18/2017 12:46</td>\n",
              "      <td>Austin (TX)</td>\n",
              "      <td>Owner Surrender</td>\n",
              "      <td>Normal</td>\n",
              "      <td>Dog</td>\n",
              "      <td>Neutered Male</td>\n",
              "      <td>2 years</td>\n",
              "      <td>Labrador Retriever Mix</td>\n",
              "      <td>Chocolate</td>\n",
              "    </tr>\n",
              "    <tr>\n",
              "      <th>6</th>\n",
              "      <td>A635072</td>\n",
              "      <td>Beowulf</td>\n",
              "      <td>4/16/2019 9:53</td>\n",
              "      <td>4/16/2019 9:53</td>\n",
              "      <td>415 East Mary Street in Austin (TX)</td>\n",
              "      <td>Public Assist</td>\n",
              "      <td>Normal</td>\n",
              "      <td>Dog</td>\n",
              "      <td>Neutered Male</td>\n",
              "      <td>6 years</td>\n",
              "      <td>Great Dane Mix</td>\n",
              "      <td>Black</td>\n",
              "    </tr>\n",
              "    <tr>\n",
              "      <th>7</th>\n",
              "      <td>A708452</td>\n",
              "      <td>Mumble</td>\n",
              "      <td>7/30/2015 14:37</td>\n",
              "      <td>7/30/2015 14:37</td>\n",
              "      <td>Austin (TX)</td>\n",
              "      <td>Public Assist</td>\n",
              "      <td>Normal</td>\n",
              "      <td>Dog</td>\n",
              "      <td>Intact Male</td>\n",
              "      <td>2 years</td>\n",
              "      <td>Labrador Retriever Mix</td>\n",
              "      <td>Black/White</td>\n",
              "    </tr>\n",
              "    <tr>\n",
              "      <th>8</th>\n",
              "      <td>A818975</td>\n",
              "      <td>NaN</td>\n",
              "      <td>6/18/2020 14:53</td>\n",
              "      <td>6/18/2020 14:53</td>\n",
              "      <td>Braker Lane And Metric in Travis (TX)</td>\n",
              "      <td>Stray</td>\n",
              "      <td>Normal</td>\n",
              "      <td>Cat</td>\n",
              "      <td>Intact Male</td>\n",
              "      <td>4 weeks</td>\n",
              "      <td>Domestic Shorthair</td>\n",
              "      <td>Cream Tabby</td>\n",
              "    </tr>\n",
              "    <tr>\n",
              "      <th>9</th>\n",
              "      <td>A774147</td>\n",
              "      <td>NaN</td>\n",
              "      <td>6/11/2018 7:45</td>\n",
              "      <td>6/11/2018 7:45</td>\n",
              "      <td>6600 Elm Creek in Austin (TX)</td>\n",
              "      <td>Stray</td>\n",
              "      <td>Injured</td>\n",
              "      <td>Cat</td>\n",
              "      <td>Intact Female</td>\n",
              "      <td>4 weeks</td>\n",
              "      <td>Domestic Shorthair Mix</td>\n",
              "      <td>Black/White</td>\n",
              "    </tr>\n",
              "  </tbody>\n",
              "</table>\n",
              "</div>"
            ],
            "text/plain": [
              "  Animal ID     Name  ...                                  Breed        Color\n",
              "0   A786884   *Brock  ...                             Beagle Mix     Tricolor\n",
              "1   A706918    Belle  ...               English Springer Spaniel  White/Liver\n",
              "2   A724273  Runster  ...                            Basenji Mix  Sable/White\n",
              "3   A665644      NaN  ...                 Domestic Shorthair Mix       Calico\n",
              "4   A682524      Rio  ...  Doberman Pinsch/Australian Cattle Dog     Tan/Gray\n",
              "5   A743852     Odin  ...                 Labrador Retriever Mix    Chocolate\n",
              "6   A635072  Beowulf  ...                         Great Dane Mix        Black\n",
              "7   A708452   Mumble  ...                 Labrador Retriever Mix  Black/White\n",
              "8   A818975      NaN  ...                     Domestic Shorthair  Cream Tabby\n",
              "9   A774147      NaN  ...                 Domestic Shorthair Mix  Black/White\n",
              "\n",
              "[10 rows x 12 columns]"
            ]
          },
          "metadata": {
            "tags": []
          },
          "execution_count": 6
        }
      ]
    },
    {
      "cell_type": "markdown",
      "metadata": {
        "id": "d2UTtXHokTkD"
      },
      "source": [
        "We are just going to consider the columns Intake Condition and Animal Type for univariate linear regression\n",
        "\n",
        "$Intake Type = Animal Type  \\cdot \\theta_1 + \\theta_0$"
      ]
    },
    {
      "cell_type": "code",
      "metadata": {
        "colab": {
          "base_uri": "https://localhost:8080/"
        },
        "id": "NjWNHiYIrh41",
        "outputId": "a5e15378-2a17-49fb-db52-4a2db304959d"
      },
      "source": [
        "print(f'IntakeType:{Data.IntakeType.unique()}')"
      ],
      "execution_count": 7,
      "outputs": [
        {
          "output_type": "stream",
          "text": [
            "IntakeType:['Stray' 'Owner Surrender' 'Public Assist' 'Wildlife' 'Euthanasia Request'\n",
            " 'Abandoned']\n"
          ],
          "name": "stdout"
        }
      ]
    },
    {
      "cell_type": "code",
      "metadata": {
        "colab": {
          "base_uri": "https://localhost:8080/"
        },
        "id": "sbcqoNvvkEGY",
        "outputId": "f0c5c59d-4b5a-4eef-ec43-43a798f6b0fe"
      },
      "source": [
        "print(f'AnimalType:{Data.AnimalType.unique()}')"
      ],
      "execution_count": 8,
      "outputs": [
        {
          "output_type": "stream",
          "text": [
            "AnimalType:['Dog' 'Cat' 'Other' 'Bird' 'Livestock']\n"
          ],
          "name": "stdout"
        }
      ]
    },
    {
      "cell_type": "markdown",
      "metadata": {
        "id": "tF684CP3nbJn"
      },
      "source": [
        "Converting the categorical data to numeric data"
      ]
    },
    {
      "cell_type": "code",
      "metadata": {
        "id": "rZDAoMr-ncAk"
      },
      "source": [
        "Data['AnimalType'] = Data['AnimalType'].apply({'Dog':1, 'Cat':2, 'Other':3,  'Bird':4, 'Livestock':5}.get)"
      ],
      "execution_count": 9,
      "outputs": []
    },
    {
      "cell_type": "code",
      "metadata": {
        "id": "ZtLo9SdArgEu"
      },
      "source": [
        "Data['IntakeType'] = Data['IntakeType'].apply({'Stray':1, 'Owner Surrender':2, 'Public Assist':3, 'Wildlife':4, 'Euthanasia Request':5, 'Abandoned':6}.get)"
      ],
      "execution_count": 10,
      "outputs": []
    },
    {
      "cell_type": "code",
      "metadata": {
        "colab": {
          "base_uri": "https://localhost:8080/",
          "height": 198
        },
        "id": "zXWczhx3twdr",
        "outputId": "7f62c896-a8d8-441c-a0de-ec93e36ecf2e"
      },
      "source": [
        "uniData = Data[['AnimalType', 'IntakeType']]\n",
        "uniData.head(5)"
      ],
      "execution_count": 12,
      "outputs": [
        {
          "output_type": "execute_result",
          "data": {
            "text/html": [
              "<div>\n",
              "<style scoped>\n",
              "    .dataframe tbody tr th:only-of-type {\n",
              "        vertical-align: middle;\n",
              "    }\n",
              "\n",
              "    .dataframe tbody tr th {\n",
              "        vertical-align: top;\n",
              "    }\n",
              "\n",
              "    .dataframe thead th {\n",
              "        text-align: right;\n",
              "    }\n",
              "</style>\n",
              "<table border=\"1\" class=\"dataframe\">\n",
              "  <thead>\n",
              "    <tr style=\"text-align: right;\">\n",
              "      <th></th>\n",
              "      <th>AnimalType</th>\n",
              "      <th>IntakeType</th>\n",
              "    </tr>\n",
              "  </thead>\n",
              "  <tbody>\n",
              "    <tr>\n",
              "      <th>0</th>\n",
              "      <td>1</td>\n",
              "      <td>1</td>\n",
              "    </tr>\n",
              "    <tr>\n",
              "      <th>1</th>\n",
              "      <td>1</td>\n",
              "      <td>1</td>\n",
              "    </tr>\n",
              "    <tr>\n",
              "      <th>2</th>\n",
              "      <td>1</td>\n",
              "      <td>1</td>\n",
              "    </tr>\n",
              "    <tr>\n",
              "      <th>3</th>\n",
              "      <td>2</td>\n",
              "      <td>1</td>\n",
              "    </tr>\n",
              "    <tr>\n",
              "      <th>4</th>\n",
              "      <td>1</td>\n",
              "      <td>1</td>\n",
              "    </tr>\n",
              "  </tbody>\n",
              "</table>\n",
              "</div>"
            ],
            "text/plain": [
              "   AnimalType  IntakeType\n",
              "0           1           1\n",
              "1           1           1\n",
              "2           1           1\n",
              "3           2           1\n",
              "4           1           1"
            ]
          },
          "metadata": {
            "tags": []
          },
          "execution_count": 12
        }
      ]
    },
    {
      "cell_type": "code",
      "metadata": {
        "id": "XDUZ0bWKod-v"
      },
      "source": [
        "uniData.to_csv('AnimalShelter_univariate_data.csv')"
      ],
      "execution_count": 13,
      "outputs": []
    },
    {
      "cell_type": "code",
      "metadata": {
        "colab": {
          "base_uri": "https://localhost:8080/"
        },
        "id": "c8qxlhGppEHi",
        "outputId": "6e89c8be-264e-42c8-d5f9-26ceb21dcc9a"
      },
      "source": [
        "ls"
      ],
      "execution_count": 14,
      "outputs": [
        {
          "output_type": "stream",
          "text": [
            "AnimalShelter_univariate_data.csv  charts.csv\n",
            "Austin_Animal_Center_Intakes.csv   toy_dataset.csv\n"
          ],
          "name": "stdout"
        }
      ]
    },
    {
      "cell_type": "markdown",
      "metadata": {
        "id": "qjxlJZcgpJKg"
      },
      "source": [
        "##Data visualization"
      ]
    },
    {
      "cell_type": "code",
      "metadata": {
        "colab": {
          "base_uri": "https://localhost:8080/",
          "height": 157
        },
        "id": "pomCKkhwpKZy",
        "outputId": "bb4f1703-18e4-4724-cb62-ac8861a2fada"
      },
      "source": [
        "import seaborn as sns\n",
        "sns.palplot(sns.color_palette(\"terrain_r\")) \n",
        "pal = sns.color_palette('terrain_r', 6) #print 6 color shades from terrain_r\n",
        "pal.as_hex() #set hex code values for colors\n",
        "\n",
        "import matplotlib.pyplot as plt\n",
        "plt.style.use(['seaborn'])\n",
        "sns_colors = ['#800517', '#7D1B7E'] #Burgundy and purple hex codes \n",
        "sns.set_palette(sns_colors) #set the palette as sns_colors \n",
        "sns.palplot(sns.color_palette(sns_colors)) #plot the color codes"
      ],
      "execution_count": 15,
      "outputs": [
        {
          "output_type": "display_data",
          "data": {
            "image/png": "[encoded data removed]",
            "text/plain": [
              "<Figure size 432x72 with 1 Axes>"
            ]
          },
          "metadata": {
            "tags": [],
            "needs_background": "light"
          }
        },
        {
          "output_type": "display_data",
          "data": {
            "image/png": "[encoded data removed]",
            "text/plain": [
              "<Figure size 144x72 with 1 Axes>"
            ]
          },
          "metadata": {
            "tags": []
          }
        }
      ]
    },
    {
      "cell_type": "code",
      "metadata": {
        "colab": {
          "base_uri": "https://localhost:8080/"
        },
        "id": "KuA8bFcyqsKC",
        "outputId": "afb266b5-a009-4760-85ef-58fde5b4f20a"
      },
      "source": [
        "uniData.columns #columns in the dataframe"
      ],
      "execution_count": 16,
      "outputs": [
        {
          "output_type": "execute_result",
          "data": {
            "text/plain": [
              "Index(['AnimalType', 'IntakeType'], dtype='object')"
            ]
          },
          "metadata": {
            "tags": []
          },
          "execution_count": 16
        }
      ]
    },
    {
      "cell_type": "code",
      "metadata": {
        "colab": {
          "base_uri": "https://localhost:8080/",
          "height": 749
        },
        "id": "m3nUZYbIq5gD",
        "outputId": "cf36a34b-a8cb-46e8-e3ef-1256fa73bb41"
      },
      "source": [
        "sns.pairplot(uniData,\n",
        "             x_vars = ['AnimalType', 'IntakeType'],\n",
        "             y_vars =  ['AnimalType', 'IntakeType'],\n",
        "       diag_kind='auto'\n",
        "             )\n",
        "\n",
        "sns.pairplot(uniData,\n",
        "             x_vars = ['AnimalType', 'IntakeType'],\n",
        "             y_vars =  ['AnimalType', 'IntakeType'],\n",
        "       diag_kind='kde'\n",
        "             )"
      ],
      "execution_count": 17,
      "outputs": [
        {
          "output_type": "execute_result",
          "data": {
            "text/plain": [
              "<seaborn.axisgrid.PairGrid at 0x7fa7cea90690>"
            ]
          },
          "metadata": {
            "tags": []
          },
          "execution_count": 17
        },
        {
          "output_type": "display_data",
          "data": {
            "image/png": "[encoded data removed]",
            "text/plain": [
              "<Figure size 360x360 with 6 Axes>"
            ]
          },
          "metadata": {
            "tags": []
          }
        },
        {
          "output_type": "display_data",
          "data": {
            "image/png": "[encoded data removed]",
            "text/plain": [
              "<Figure size 360x360 with 6 Axes>"
            ]
          },
          "metadata": {
            "tags": []
          }
        }
      ]
    },
    {
      "cell_type": "markdown",
      "metadata": {
        "id": "USVT2vlHuRM5"
      },
      "source": [
        "##Data Splits"
      ]
    },
    {
      "cell_type": "code",
      "metadata": {
        "colab": {
          "base_uri": "https://localhost:8080/"
        },
        "id": "ZCG6Vuf8uSm9",
        "outputId": "8ba3cf41-b018-425b-f5c0-b884fc34247e"
      },
      "source": [
        "#80-20 train-test percent split\n",
        "\n",
        "trainDataset = uniData.sample(frac=0.89, random_state=0) \n",
        "testDataset = uniData.drop(trainDataset.index)\n",
        "\n",
        "print(trainDataset.head())\n",
        "print(testDataset.head())"
      ],
      "execution_count": 18,
      "outputs": [
        {
          "output_type": "stream",
          "text": [
            "        AnimalType  IntakeType\n",
            "26010            1           3\n",
            "121439           1           1\n",
            "7721             2           1\n",
            "59075            1           1\n",
            "104938           3           4\n",
            "    AnimalType  IntakeType\n",
            "10           2           2\n",
            "13           1           1\n",
            "21           1           1\n",
            "30           2           2\n",
            "43           1           1\n"
          ],
          "name": "stdout"
        }
      ]
    },
    {
      "cell_type": "code",
      "metadata": {
        "colab": {
          "base_uri": "https://localhost:8080/"
        },
        "id": "EQ5kZj3xub44",
        "outputId": "921273cd-7dc8-4070-ea72-acf20f6c5909"
      },
      "source": [
        "print(trainDataset.shape)\n",
        "print(testDataset.shape)"
      ],
      "execution_count": 19,
      "outputs": [
        {
          "output_type": "stream",
          "text": [
            "(110467, 2)\n",
            "(13653, 2)\n"
          ],
          "name": "stdout"
        }
      ]
    },
    {
      "cell_type": "code",
      "metadata": {
        "colab": {
          "base_uri": "https://localhost:8080/"
        },
        "id": "iXvn86T3udg7",
        "outputId": "e12ee222-8071-44d5-8530-f96baac0ae68"
      },
      "source": [
        "#copy the trainDataset dataframe for getting the features\n",
        "\n",
        "trainFeatures = trainDataset.copy()\n",
        "testFeatures = testDataset.copy()\n",
        "\n",
        "print(trainFeatures.head())\n",
        "print(testFeatures.head())"
      ],
      "execution_count": 20,
      "outputs": [
        {
          "output_type": "stream",
          "text": [
            "        AnimalType  IntakeType\n",
            "26010            1           3\n",
            "121439           1           1\n",
            "7721             2           1\n",
            "59075            1           1\n",
            "104938           3           4\n",
            "    AnimalType  IntakeType\n",
            "10           2           2\n",
            "13           1           1\n",
            "21           1           1\n",
            "30           2           2\n",
            "43           1           1\n"
          ],
          "name": "stdout"
        }
      ]
    },
    {
      "cell_type": "code",
      "metadata": {
        "colab": {
          "base_uri": "https://localhost:8080/"
        },
        "id": "pkvlIQSCui9d",
        "outputId": "65de2185-3ca5-423a-b936-630d0acf2dca"
      },
      "source": [
        "#removing the G3 column and saving it into the labels variable\n",
        "\n",
        "trainLabels = trainFeatures.pop('AnimalType')\n",
        "testLabels = testFeatures.pop('AnimalType')\n",
        "\n",
        "print(trainLabels.head())\n",
        "print(testLabels.head())"
      ],
      "execution_count": 21,
      "outputs": [
        {
          "output_type": "stream",
          "text": [
            "26010     1\n",
            "121439    1\n",
            "7721      2\n",
            "59075     1\n",
            "104938    3\n",
            "Name: AnimalType, dtype: int64\n",
            "10    2\n",
            "13    1\n",
            "21    1\n",
            "30    2\n",
            "43    1\n",
            "Name: AnimalType, dtype: int64\n"
          ],
          "name": "stdout"
        }
      ]
    },
    {
      "cell_type": "code",
      "metadata": {
        "colab": {
          "base_uri": "https://localhost:8080/"
        },
        "id": "7it0FiEmu4aW",
        "outputId": "d1bba600-cae3-4fdc-e797-e67f4ba6e838"
      },
      "source": [
        "print(trainFeatures.head())\n",
        "print(testFeatures.head())"
      ],
      "execution_count": 22,
      "outputs": [
        {
          "output_type": "stream",
          "text": [
            "        IntakeType\n",
            "26010            3\n",
            "121439           1\n",
            "7721             1\n",
            "59075            1\n",
            "104938           4\n",
            "    IntakeType\n",
            "10           2\n",
            "13           1\n",
            "21           1\n",
            "30           2\n",
            "43           1\n"
          ],
          "name": "stdout"
        }
      ]
    },
    {
      "cell_type": "code",
      "metadata": {
        "id": "IQgY72CTu-SW"
      },
      "source": [
        "# univariate -> num(features) = 1\n",
        "# multvariate -> num(features) > 1 = 11\n",
        "\n",
        "model=tf.keras.Sequential([\n",
        "                           tf.keras.layers.Dense(1)\n",
        "])"
      ],
      "execution_count": 23,
      "outputs": []
    },
    {
      "cell_type": "code",
      "metadata": {
        "id": "q_L4CyZzvF8o"
      },
      "source": [
        "model.compile(\n",
        "    loss='mean_absolute_error',\n",
        "    optimizer=tf.keras.optimizers.Adam(0.001),\n",
        "    metrics=['mae','mse']\n",
        ")"
      ],
      "execution_count": 24,
      "outputs": []
    },
    {
      "cell_type": "code",
      "metadata": {
        "colab": {
          "base_uri": "https://localhost:8080/"
        },
        "id": "v3a6__7Uzlyq",
        "outputId": "041b1b4c-5f66-4ff9-9e12-d5ebd87dda78"
      },
      "source": [
        "numEpochs=300\n",
        "history=model.fit(x = trainFeatures, y = trainLabels, validation_data = (testFeatures, testLabels), epochs = numEpochs)"
      ],
      "execution_count": 25,
      "outputs": [
        {
          "output_type": "stream",
          "text": [
            "Epoch 1/300\n",
            "3453/3453 [==============================] - 5s 1ms/step - loss: 0.5909 - mae: 0.5909 - mse: 0.7521 - val_loss: 0.5089 - val_mae: 0.5089 - val_mse: 0.5190\n",
            "Epoch 2/300\n",
            "3453/3453 [==============================] - 4s 1ms/step - loss: 0.5010 - mae: 0.5010 - mse: 0.4904 - val_loss: 0.5040 - val_mae: 0.5040 - val_mse: 0.4926\n",
            "Epoch 3/300\n",
            "3453/3453 [==============================] - 4s 1ms/step - loss: 0.4989 - mae: 0.4989 - mse: 0.4813 - val_loss: 0.5030 - val_mae: 0.5030 - val_mse: 0.4912\n",
            "Epoch 4/300\n",
            "3453/3453 [==============================] - 4s 1ms/step - loss: 0.4979 - mae: 0.4979 - mse: 0.4838 - val_loss: 0.5027 - val_mae: 0.5027 - val_mse: 0.4986\n",
            "Epoch 5/300\n",
            "3453/3453 [==============================] - 4s 1ms/step - loss: 0.4969 - mae: 0.4969 - mse: 0.4949 - val_loss: 0.5013 - val_mae: 0.5013 - val_mse: 0.5109\n",
            "Epoch 6/300\n",
            "3453/3453 [==============================] - 4s 1ms/step - loss: 0.4961 - mae: 0.4961 - mse: 0.5109 - val_loss: 0.5007 - val_mae: 0.5007 - val_mse: 0.5271\n",
            "Epoch 7/300\n",
            "3453/3453 [==============================] - 4s 1ms/step - loss: 0.4958 - mae: 0.4958 - mse: 0.5234 - val_loss: 0.5010 - val_mae: 0.5010 - val_mse: 0.5303\n",
            "Epoch 8/300\n",
            "3453/3453 [==============================] - 4s 1ms/step - loss: 0.4957 - mae: 0.4957 - mse: 0.5249 - val_loss: 0.5006 - val_mae: 0.5006 - val_mse: 0.5384\n",
            "Epoch 9/300\n",
            "3453/3453 [==============================] - 4s 1ms/step - loss: 0.4957 - mae: 0.4957 - mse: 0.5320 - val_loss: 0.5007 - val_mae: 0.5007 - val_mse: 0.5443\n",
            "Epoch 10/300\n",
            "3453/3453 [==============================] - 4s 1ms/step - loss: 0.4957 - mae: 0.4957 - mse: 0.5363 - val_loss: 0.5006 - val_mae: 0.5006 - val_mse: 0.5495\n",
            "Epoch 11/300\n",
            "3453/3453 [==============================] - 4s 1ms/step - loss: 0.4957 - mae: 0.4957 - mse: 0.5452 - val_loss: 0.5010 - val_mae: 0.5010 - val_mse: 0.5561\n",
            "Epoch 12/300\n",
            "3453/3453 [==============================] - 4s 1ms/step - loss: 0.4956 - mae: 0.4956 - mse: 0.5471 - val_loss: 0.5008 - val_mae: 0.5008 - val_mse: 0.5590\n",
            "Epoch 13/300\n",
            "3453/3453 [==============================] - 4s 1ms/step - loss: 0.4956 - mae: 0.4956 - mse: 0.5538 - val_loss: 0.5008 - val_mae: 0.5008 - val_mse: 0.5676\n",
            "Epoch 14/300\n",
            "3453/3453 [==============================] - 4s 1ms/step - loss: 0.4955 - mae: 0.4955 - mse: 0.5629 - val_loss: 0.5009 - val_mae: 0.5009 - val_mse: 0.5711\n",
            "Epoch 15/300\n",
            "3453/3453 [==============================] - 4s 1ms/step - loss: 0.4955 - mae: 0.4955 - mse: 0.5648 - val_loss: 0.5009 - val_mae: 0.5009 - val_mse: 0.5765\n",
            "Epoch 16/300\n",
            "3453/3453 [==============================] - 4s 1ms/step - loss: 0.4955 - mae: 0.4955 - mse: 0.5717 - val_loss: 0.5006 - val_mae: 0.5006 - val_mse: 0.5867\n",
            "Epoch 17/300\n",
            "3453/3453 [==============================] - 4s 1ms/step - loss: 0.4955 - mae: 0.4955 - mse: 0.5802 - val_loss: 0.5008 - val_mae: 0.5008 - val_mse: 0.5916\n",
            "Epoch 18/300\n",
            "3453/3453 [==============================] - 4s 1ms/step - loss: 0.4954 - mae: 0.4954 - mse: 0.5880 - val_loss: 0.5007 - val_mae: 0.5007 - val_mse: 0.6004\n",
            "Epoch 19/300\n",
            "3453/3453 [==============================] - 4s 1ms/step - loss: 0.4954 - mae: 0.4954 - mse: 0.5938 - val_loss: 0.5009 - val_mae: 0.5009 - val_mse: 0.6097\n",
            "Epoch 20/300\n",
            "3453/3453 [==============================] - 4s 1ms/step - loss: 0.4953 - mae: 0.4953 - mse: 0.6017 - val_loss: 0.5009 - val_mae: 0.5009 - val_mse: 0.6140\n",
            "Epoch 21/300\n",
            "3453/3453 [==============================] - 4s 1ms/step - loss: 0.4953 - mae: 0.4953 - mse: 0.6136 - val_loss: 0.5008 - val_mae: 0.5008 - val_mse: 0.6221\n",
            "Epoch 22/300\n",
            "3453/3453 [==============================] - 4s 1ms/step - loss: 0.4953 - mae: 0.4953 - mse: 0.6205 - val_loss: 0.5007 - val_mae: 0.5007 - val_mse: 0.6322\n",
            "Epoch 23/300\n",
            "3453/3453 [==============================] - 4s 1ms/step - loss: 0.4952 - mae: 0.4952 - mse: 0.6266 - val_loss: 0.5008 - val_mae: 0.5008 - val_mse: 0.6290\n",
            "Epoch 24/300\n",
            "3453/3453 [==============================] - 4s 1ms/step - loss: 0.4953 - mae: 0.4953 - mse: 0.6223 - val_loss: 0.5009 - val_mae: 0.5009 - val_mse: 0.6362\n",
            "Epoch 25/300\n",
            "3453/3453 [==============================] - 4s 1ms/step - loss: 0.4952 - mae: 0.4952 - mse: 0.6278 - val_loss: 0.5011 - val_mae: 0.5011 - val_mse: 0.6383\n",
            "Epoch 26/300\n",
            "3453/3453 [==============================] - 4s 1ms/step - loss: 0.4952 - mae: 0.4952 - mse: 0.6279 - val_loss: 0.5008 - val_mae: 0.5008 - val_mse: 0.6382\n",
            "Epoch 27/300\n",
            "3453/3453 [==============================] - 4s 1ms/step - loss: 0.4952 - mae: 0.4952 - mse: 0.6288 - val_loss: 0.5007 - val_mae: 0.5007 - val_mse: 0.6376\n",
            "Epoch 28/300\n",
            "3453/3453 [==============================] - 4s 1ms/step - loss: 0.4952 - mae: 0.4952 - mse: 0.6282 - val_loss: 0.5010 - val_mae: 0.5010 - val_mse: 0.6355\n",
            "Epoch 29/300\n",
            "3453/3453 [==============================] - 4s 1ms/step - loss: 0.4952 - mae: 0.4952 - mse: 0.6280 - val_loss: 0.5013 - val_mae: 0.5013 - val_mse: 0.6407\n",
            "Epoch 30/300\n",
            "3453/3453 [==============================] - 4s 1ms/step - loss: 0.4952 - mae: 0.4952 - mse: 0.6274 - val_loss: 0.5011 - val_mae: 0.5011 - val_mse: 0.6334\n",
            "Epoch 31/300\n",
            "3453/3453 [==============================] - 4s 1ms/step - loss: 0.4952 - mae: 0.4952 - mse: 0.6274 - val_loss: 0.5009 - val_mae: 0.5009 - val_mse: 0.6307\n",
            "Epoch 32/300\n",
            "3453/3453 [==============================] - 4s 1ms/step - loss: 0.4952 - mae: 0.4952 - mse: 0.6268 - val_loss: 0.5009 - val_mae: 0.5009 - val_mse: 0.6361\n",
            "Epoch 33/300\n",
            "3453/3453 [==============================] - 4s 1ms/step - loss: 0.4952 - mae: 0.4952 - mse: 0.6268 - val_loss: 0.5009 - val_mae: 0.5009 - val_mse: 0.6365\n",
            "Epoch 34/300\n",
            "3453/3453 [==============================] - 4s 1ms/step - loss: 0.4952 - mae: 0.4952 - mse: 0.6283 - val_loss: 0.5006 - val_mae: 0.5006 - val_mse: 0.6383\n",
            "Epoch 35/300\n",
            "3453/3453 [==============================] - 4s 1ms/step - loss: 0.4952 - mae: 0.4952 - mse: 0.6253 - val_loss: 0.5010 - val_mae: 0.5010 - val_mse: 0.6268\n",
            "Epoch 36/300\n",
            "3453/3453 [==============================] - 4s 1ms/step - loss: 0.4952 - mae: 0.4952 - mse: 0.6260 - val_loss: 0.5008 - val_mae: 0.5008 - val_mse: 0.6307\n",
            "Epoch 37/300\n",
            "3453/3453 [==============================] - 4s 1ms/step - loss: 0.4952 - mae: 0.4952 - mse: 0.6247 - val_loss: 0.5011 - val_mae: 0.5011 - val_mse: 0.6378\n",
            "Epoch 38/300\n",
            "3453/3453 [==============================] - 4s 1ms/step - loss: 0.4952 - mae: 0.4952 - mse: 0.6281 - val_loss: 0.5009 - val_mae: 0.5009 - val_mse: 0.6308\n",
            "Epoch 39/300\n",
            "3453/3453 [==============================] - 4s 1ms/step - loss: 0.4952 - mae: 0.4952 - mse: 0.6260 - val_loss: 0.5007 - val_mae: 0.5007 - val_mse: 0.6381\n",
            "Epoch 40/300\n",
            "3453/3453 [==============================] - 4s 1ms/step - loss: 0.4952 - mae: 0.4952 - mse: 0.6280 - val_loss: 0.5011 - val_mae: 0.5011 - val_mse: 0.6334\n",
            "Epoch 41/300\n",
            "3453/3453 [==============================] - 4s 1ms/step - loss: 0.4952 - mae: 0.4952 - mse: 0.6286 - val_loss: 0.5007 - val_mae: 0.5007 - val_mse: 0.6362\n",
            "Epoch 42/300\n",
            "3453/3453 [==============================] - 4s 1ms/step - loss: 0.4952 - mae: 0.4952 - mse: 0.6260 - val_loss: 0.5008 - val_mae: 0.5008 - val_mse: 0.6353\n",
            "Epoch 43/300\n",
            "3453/3453 [==============================] - 4s 1ms/step - loss: 0.4952 - mae: 0.4952 - mse: 0.6261 - val_loss: 0.5010 - val_mae: 0.5010 - val_mse: 0.6333\n",
            "Epoch 44/300\n",
            "3453/3453 [==============================] - 4s 1ms/step - loss: 0.4952 - mae: 0.4952 - mse: 0.6263 - val_loss: 0.5006 - val_mae: 0.5006 - val_mse: 0.6321\n",
            "Epoch 45/300\n",
            "3453/3453 [==============================] - 4s 1ms/step - loss: 0.4953 - mae: 0.4953 - mse: 0.6269 - val_loss: 0.5007 - val_mae: 0.5007 - val_mse: 0.6327\n",
            "Epoch 46/300\n",
            "3453/3453 [==============================] - 4s 1ms/step - loss: 0.4952 - mae: 0.4952 - mse: 0.6256 - val_loss: 0.5013 - val_mae: 0.5013 - val_mse: 0.6322\n",
            "Epoch 47/300\n",
            "3453/3453 [==============================] - 4s 1ms/step - loss: 0.4952 - mae: 0.4952 - mse: 0.6271 - val_loss: 0.5008 - val_mae: 0.5008 - val_mse: 0.6337\n",
            "Epoch 48/300\n",
            "3453/3453 [==============================] - 4s 1ms/step - loss: 0.4952 - mae: 0.4952 - mse: 0.6276 - val_loss: 0.5007 - val_mae: 0.5007 - val_mse: 0.6376\n",
            "Epoch 49/300\n",
            "3453/3453 [==============================] - 4s 1ms/step - loss: 0.4952 - mae: 0.4952 - mse: 0.6268 - val_loss: 0.5008 - val_mae: 0.5008 - val_mse: 0.6330\n",
            "Epoch 50/300\n",
            "3453/3453 [==============================] - 4s 1ms/step - loss: 0.4952 - mae: 0.4952 - mse: 0.6262 - val_loss: 0.5009 - val_mae: 0.5009 - val_mse: 0.6352\n",
            "Epoch 51/300\n",
            "3453/3453 [==============================] - 4s 1ms/step - loss: 0.4952 - mae: 0.4952 - mse: 0.6271 - val_loss: 0.5009 - val_mae: 0.5009 - val_mse: 0.6355\n",
            "Epoch 52/300\n",
            "3453/3453 [==============================] - 4s 1ms/step - loss: 0.4953 - mae: 0.4953 - mse: 0.6274 - val_loss: 0.5007 - val_mae: 0.5007 - val_mse: 0.6368\n",
            "Epoch 53/300\n",
            "3453/3453 [==============================] - 4s 1ms/step - loss: 0.4952 - mae: 0.4952 - mse: 0.6283 - val_loss: 0.5007 - val_mae: 0.5007 - val_mse: 0.6362\n",
            "Epoch 54/300\n",
            "3453/3453 [==============================] - 4s 1ms/step - loss: 0.4952 - mae: 0.4952 - mse: 0.6262 - val_loss: 0.5007 - val_mae: 0.5007 - val_mse: 0.6351\n",
            "Epoch 55/300\n",
            "3453/3453 [==============================] - 4s 1ms/step - loss: 0.4952 - mae: 0.4952 - mse: 0.6283 - val_loss: 0.5011 - val_mae: 0.5011 - val_mse: 0.6306\n",
            "Epoch 56/300\n",
            "3453/3453 [==============================] - 4s 1ms/step - loss: 0.4953 - mae: 0.4953 - mse: 0.6277 - val_loss: 0.5008 - val_mae: 0.5008 - val_mse: 0.6368\n",
            "Epoch 57/300\n",
            "3453/3453 [==============================] - 4s 1ms/step - loss: 0.4952 - mae: 0.4952 - mse: 0.6278 - val_loss: 0.5007 - val_mae: 0.5007 - val_mse: 0.6330\n",
            "Epoch 58/300\n",
            "3453/3453 [==============================] - 4s 1ms/step - loss: 0.4952 - mae: 0.4952 - mse: 0.6272 - val_loss: 0.5007 - val_mae: 0.5007 - val_mse: 0.6335\n",
            "Epoch 59/300\n",
            "3453/3453 [==============================] - 4s 1ms/step - loss: 0.4952 - mae: 0.4952 - mse: 0.6271 - val_loss: 0.5007 - val_mae: 0.5007 - val_mse: 0.6377\n",
            "Epoch 60/300\n",
            "3453/3453 [==============================] - 4s 1ms/step - loss: 0.4952 - mae: 0.4952 - mse: 0.6285 - val_loss: 0.5008 - val_mae: 0.5008 - val_mse: 0.6334\n",
            "Epoch 61/300\n",
            "3453/3453 [==============================] - 4s 1ms/step - loss: 0.4952 - mae: 0.4952 - mse: 0.6232 - val_loss: 0.5009 - val_mae: 0.5009 - val_mse: 0.6342\n",
            "Epoch 62/300\n",
            "3453/3453 [==============================] - 4s 1ms/step - loss: 0.4952 - mae: 0.4952 - mse: 0.6268 - val_loss: 0.5007 - val_mae: 0.5007 - val_mse: 0.6332\n",
            "Epoch 63/300\n",
            "3453/3453 [==============================] - 4s 1ms/step - loss: 0.4952 - mae: 0.4952 - mse: 0.6228 - val_loss: 0.5007 - val_mae: 0.5007 - val_mse: 0.6381\n",
            "Epoch 64/300\n",
            "3453/3453 [==============================] - 4s 1ms/step - loss: 0.4952 - mae: 0.4952 - mse: 0.6280 - val_loss: 0.5007 - val_mae: 0.5007 - val_mse: 0.6382\n",
            "Epoch 65/300\n",
            "3453/3453 [==============================] - 4s 1ms/step - loss: 0.4952 - mae: 0.4952 - mse: 0.6267 - val_loss: 0.5007 - val_mae: 0.5007 - val_mse: 0.6377\n",
            "Epoch 66/300\n",
            "3453/3453 [==============================] - 4s 1ms/step - loss: 0.4952 - mae: 0.4952 - mse: 0.6261 - val_loss: 0.5007 - val_mae: 0.5007 - val_mse: 0.6287\n",
            "Epoch 67/300\n",
            "3453/3453 [==============================] - 4s 1ms/step - loss: 0.4953 - mae: 0.4953 - mse: 0.6241 - val_loss: 0.5008 - val_mae: 0.5008 - val_mse: 0.6353\n",
            "Epoch 68/300\n",
            "3453/3453 [==============================] - 4s 1ms/step - loss: 0.4952 - mae: 0.4952 - mse: 0.6279 - val_loss: 0.5008 - val_mae: 0.5008 - val_mse: 0.6328\n",
            "Epoch 69/300\n",
            "3453/3453 [==============================] - 4s 1ms/step - loss: 0.4952 - mae: 0.4952 - mse: 0.6275 - val_loss: 0.5006 - val_mae: 0.5006 - val_mse: 0.6361\n",
            "Epoch 70/300\n",
            "3453/3453 [==============================] - 4s 1ms/step - loss: 0.4952 - mae: 0.4952 - mse: 0.6260 - val_loss: 0.5010 - val_mae: 0.5010 - val_mse: 0.6378\n",
            "Epoch 71/300\n",
            "3453/3453 [==============================] - 4s 1ms/step - loss: 0.4952 - mae: 0.4952 - mse: 0.6273 - val_loss: 0.5014 - val_mae: 0.5014 - val_mse: 0.6305\n",
            "Epoch 72/300\n",
            "3453/3453 [==============================] - 4s 1ms/step - loss: 0.4953 - mae: 0.4953 - mse: 0.6272 - val_loss: 0.5007 - val_mae: 0.5007 - val_mse: 0.6382\n",
            "Epoch 73/300\n",
            "3453/3453 [==============================] - 4s 1ms/step - loss: 0.4952 - mae: 0.4952 - mse: 0.6277 - val_loss: 0.5006 - val_mae: 0.5006 - val_mse: 0.6357\n",
            "Epoch 74/300\n",
            "3453/3453 [==============================] - 4s 1ms/step - loss: 0.4952 - mae: 0.4952 - mse: 0.6273 - val_loss: 0.5008 - val_mae: 0.5008 - val_mse: 0.6381\n",
            "Epoch 75/300\n",
            "3453/3453 [==============================] - 4s 1ms/step - loss: 0.4952 - mae: 0.4952 - mse: 0.6284 - val_loss: 0.5008 - val_mae: 0.5008 - val_mse: 0.6339\n",
            "Epoch 76/300\n",
            "3453/3453 [==============================] - 4s 1ms/step - loss: 0.4952 - mae: 0.4952 - mse: 0.6257 - val_loss: 0.5006 - val_mae: 0.5006 - val_mse: 0.6396\n",
            "Epoch 77/300\n",
            "3453/3453 [==============================] - 4s 1ms/step - loss: 0.4952 - mae: 0.4952 - mse: 0.6256 - val_loss: 0.5007 - val_mae: 0.5007 - val_mse: 0.6321\n",
            "Epoch 78/300\n",
            "3453/3453 [==============================] - 4s 1ms/step - loss: 0.4953 - mae: 0.4953 - mse: 0.6261 - val_loss: 0.5007 - val_mae: 0.5007 - val_mse: 0.6383\n",
            "Epoch 79/300\n",
            "3453/3453 [==============================] - 4s 1ms/step - loss: 0.4953 - mae: 0.4953 - mse: 0.6268 - val_loss: 0.5006 - val_mae: 0.5006 - val_mse: 0.6387\n",
            "Epoch 80/300\n",
            "3453/3453 [==============================] - 4s 1ms/step - loss: 0.4953 - mae: 0.4953 - mse: 0.6276 - val_loss: 0.5008 - val_mae: 0.5008 - val_mse: 0.6401\n",
            "Epoch 81/300\n",
            "3453/3453 [==============================] - 4s 1ms/step - loss: 0.4952 - mae: 0.4952 - mse: 0.6278 - val_loss: 0.5007 - val_mae: 0.5007 - val_mse: 0.6367\n",
            "Epoch 82/300\n",
            "3453/3453 [==============================] - 4s 1ms/step - loss: 0.4952 - mae: 0.4952 - mse: 0.6257 - val_loss: 0.5007 - val_mae: 0.5007 - val_mse: 0.6369\n",
            "Epoch 83/300\n",
            "3453/3453 [==============================] - 4s 1ms/step - loss: 0.4952 - mae: 0.4952 - mse: 0.6285 - val_loss: 0.5008 - val_mae: 0.5008 - val_mse: 0.6369\n",
            "Epoch 84/300\n",
            "3453/3453 [==============================] - 4s 1ms/step - loss: 0.4952 - mae: 0.4952 - mse: 0.6281 - val_loss: 0.5006 - val_mae: 0.5006 - val_mse: 0.6379\n",
            "Epoch 85/300\n",
            "3453/3453 [==============================] - 4s 1ms/step - loss: 0.4952 - mae: 0.4952 - mse: 0.6283 - val_loss: 0.5008 - val_mae: 0.5008 - val_mse: 0.6346\n",
            "Epoch 86/300\n",
            "3453/3453 [==============================] - 4s 1ms/step - loss: 0.4952 - mae: 0.4952 - mse: 0.6271 - val_loss: 0.5006 - val_mae: 0.5006 - val_mse: 0.6319\n",
            "Epoch 87/300\n",
            "3453/3453 [==============================] - 4s 1ms/step - loss: 0.4952 - mae: 0.4952 - mse: 0.6265 - val_loss: 0.5012 - val_mae: 0.5012 - val_mse: 0.6276\n",
            "Epoch 88/300\n",
            "3453/3453 [==============================] - 4s 1ms/step - loss: 0.4952 - mae: 0.4952 - mse: 0.6252 - val_loss: 0.5007 - val_mae: 0.5007 - val_mse: 0.6370\n",
            "Epoch 89/300\n",
            "3453/3453 [==============================] - 4s 1ms/step - loss: 0.4952 - mae: 0.4952 - mse: 0.6274 - val_loss: 0.5010 - val_mae: 0.5010 - val_mse: 0.6331\n",
            "Epoch 90/300\n",
            "3453/3453 [==============================] - 4s 1ms/step - loss: 0.4952 - mae: 0.4952 - mse: 0.6273 - val_loss: 0.5010 - val_mae: 0.5010 - val_mse: 0.6346\n",
            "Epoch 91/300\n",
            "3453/3453 [==============================] - 4s 1ms/step - loss: 0.4952 - mae: 0.4952 - mse: 0.6274 - val_loss: 0.5007 - val_mae: 0.5007 - val_mse: 0.6374\n",
            "Epoch 92/300\n",
            "3453/3453 [==============================] - 4s 1ms/step - loss: 0.4953 - mae: 0.4953 - mse: 0.6271 - val_loss: 0.5008 - val_mae: 0.5008 - val_mse: 0.6369\n",
            "Epoch 93/300\n",
            "3453/3453 [==============================] - 4s 1ms/step - loss: 0.4952 - mae: 0.4952 - mse: 0.6275 - val_loss: 0.5006 - val_mae: 0.5006 - val_mse: 0.6389\n",
            "Epoch 94/300\n",
            "3453/3453 [==============================] - 4s 1ms/step - loss: 0.4952 - mae: 0.4952 - mse: 0.6273 - val_loss: 0.5008 - val_mae: 0.5008 - val_mse: 0.6301\n",
            "Epoch 95/300\n",
            "3453/3453 [==============================] - 4s 1ms/step - loss: 0.4953 - mae: 0.4953 - mse: 0.6259 - val_loss: 0.5007 - val_mae: 0.5007 - val_mse: 0.6381\n",
            "Epoch 96/300\n",
            "3453/3453 [==============================] - 4s 1ms/step - loss: 0.4952 - mae: 0.4952 - mse: 0.6270 - val_loss: 0.5007 - val_mae: 0.5007 - val_mse: 0.6400\n",
            "Epoch 97/300\n",
            "3453/3453 [==============================] - 4s 1ms/step - loss: 0.4952 - mae: 0.4952 - mse: 0.6282 - val_loss: 0.5009 - val_mae: 0.5009 - val_mse: 0.6338\n",
            "Epoch 98/300\n",
            "3453/3453 [==============================] - 4s 1ms/step - loss: 0.4952 - mae: 0.4952 - mse: 0.6266 - val_loss: 0.5006 - val_mae: 0.5006 - val_mse: 0.6385\n",
            "Epoch 99/300\n",
            "3453/3453 [==============================] - 4s 1ms/step - loss: 0.4952 - mae: 0.4952 - mse: 0.6277 - val_loss: 0.5007 - val_mae: 0.5007 - val_mse: 0.6381\n",
            "Epoch 100/300\n",
            "3453/3453 [==============================] - 4s 1ms/step - loss: 0.4952 - mae: 0.4952 - mse: 0.6279 - val_loss: 0.5009 - val_mae: 0.5009 - val_mse: 0.6363\n",
            "Epoch 101/300\n",
            "3453/3453 [==============================] - 4s 1ms/step - loss: 0.4952 - mae: 0.4952 - mse: 0.6276 - val_loss: 0.5007 - val_mae: 0.5007 - val_mse: 0.6362\n",
            "Epoch 102/300\n",
            "3453/3453 [==============================] - 4s 1ms/step - loss: 0.4952 - mae: 0.4952 - mse: 0.6262 - val_loss: 0.5007 - val_mae: 0.5007 - val_mse: 0.6384\n",
            "Epoch 103/300\n",
            "3453/3453 [==============================] - 4s 1ms/step - loss: 0.4952 - mae: 0.4952 - mse: 0.6269 - val_loss: 0.5007 - val_mae: 0.5007 - val_mse: 0.6373\n",
            "Epoch 104/300\n",
            "3453/3453 [==============================] - 4s 1ms/step - loss: 0.4952 - mae: 0.4952 - mse: 0.6284 - val_loss: 0.5007 - val_mae: 0.5007 - val_mse: 0.6349\n",
            "Epoch 105/300\n",
            "3453/3453 [==============================] - 4s 1ms/step - loss: 0.4952 - mae: 0.4952 - mse: 0.6273 - val_loss: 0.5008 - val_mae: 0.5008 - val_mse: 0.6333\n",
            "Epoch 106/300\n",
            "3453/3453 [==============================] - 4s 1ms/step - loss: 0.4952 - mae: 0.4952 - mse: 0.6258 - val_loss: 0.5009 - val_mae: 0.5009 - val_mse: 0.6380\n",
            "Epoch 107/300\n",
            "3453/3453 [==============================] - 4s 1ms/step - loss: 0.4953 - mae: 0.4953 - mse: 0.6267 - val_loss: 0.5007 - val_mae: 0.5007 - val_mse: 0.6360\n",
            "Epoch 108/300\n",
            "3453/3453 [==============================] - 4s 1ms/step - loss: 0.4952 - mae: 0.4952 - mse: 0.6275 - val_loss: 0.5007 - val_mae: 0.5007 - val_mse: 0.6363\n",
            "Epoch 109/300\n",
            "3453/3453 [==============================] - 4s 1ms/step - loss: 0.4952 - mae: 0.4952 - mse: 0.6265 - val_loss: 0.5007 - val_mae: 0.5007 - val_mse: 0.6331\n",
            "Epoch 110/300\n",
            "3453/3453 [==============================] - 4s 1ms/step - loss: 0.4952 - mae: 0.4952 - mse: 0.6258 - val_loss: 0.5008 - val_mae: 0.5008 - val_mse: 0.6365\n",
            "Epoch 111/300\n",
            "3453/3453 [==============================] - 4s 1ms/step - loss: 0.4952 - mae: 0.4952 - mse: 0.6283 - val_loss: 0.5008 - val_mae: 0.5008 - val_mse: 0.6335\n",
            "Epoch 112/300\n",
            "3453/3453 [==============================] - 4s 1ms/step - loss: 0.4952 - mae: 0.4952 - mse: 0.6261 - val_loss: 0.5009 - val_mae: 0.5009 - val_mse: 0.6402\n",
            "Epoch 113/300\n",
            "3453/3453 [==============================] - 4s 1ms/step - loss: 0.4952 - mae: 0.4952 - mse: 0.6276 - val_loss: 0.5008 - val_mae: 0.5008 - val_mse: 0.6344\n",
            "Epoch 114/300\n",
            "3453/3453 [==============================] - 4s 1ms/step - loss: 0.4952 - mae: 0.4952 - mse: 0.6275 - val_loss: 0.5007 - val_mae: 0.5007 - val_mse: 0.6377\n",
            "Epoch 115/300\n",
            "3453/3453 [==============================] - 4s 1ms/step - loss: 0.4952 - mae: 0.4952 - mse: 0.6276 - val_loss: 0.5007 - val_mae: 0.5007 - val_mse: 0.6363\n",
            "Epoch 116/300\n",
            "3453/3453 [==============================] - 4s 1ms/step - loss: 0.4952 - mae: 0.4952 - mse: 0.6257 - val_loss: 0.5007 - val_mae: 0.5007 - val_mse: 0.6238\n",
            "Epoch 117/300\n",
            "3453/3453 [==============================] - 4s 1ms/step - loss: 0.4953 - mae: 0.4953 - mse: 0.6207 - val_loss: 0.5007 - val_mae: 0.5007 - val_mse: 0.6317\n",
            "Epoch 118/300\n",
            "3453/3453 [==============================] - 4s 1ms/step - loss: 0.4952 - mae: 0.4952 - mse: 0.6246 - val_loss: 0.5008 - val_mae: 0.5008 - val_mse: 0.6382\n",
            "Epoch 119/300\n",
            "3453/3453 [==============================] - 4s 1ms/step - loss: 0.4952 - mae: 0.4952 - mse: 0.6283 - val_loss: 0.5007 - val_mae: 0.5007 - val_mse: 0.6324\n",
            "Epoch 120/300\n",
            "3453/3453 [==============================] - 4s 1ms/step - loss: 0.4953 - mae: 0.4953 - mse: 0.6262 - val_loss: 0.5009 - val_mae: 0.5009 - val_mse: 0.6387\n",
            "Epoch 121/300\n",
            "3453/3453 [==============================] - 4s 1ms/step - loss: 0.4952 - mae: 0.4952 - mse: 0.6280 - val_loss: 0.5007 - val_mae: 0.5007 - val_mse: 0.6359\n",
            "Epoch 122/300\n",
            "3453/3453 [==============================] - 4s 1ms/step - loss: 0.4952 - mae: 0.4952 - mse: 0.6265 - val_loss: 0.5008 - val_mae: 0.5008 - val_mse: 0.6383\n",
            "Epoch 123/300\n",
            "3453/3453 [==============================] - 4s 1ms/step - loss: 0.4952 - mae: 0.4952 - mse: 0.6278 - val_loss: 0.5008 - val_mae: 0.5008 - val_mse: 0.6342\n",
            "Epoch 124/300\n",
            "3453/3453 [==============================] - 4s 1ms/step - loss: 0.4952 - mae: 0.4952 - mse: 0.6276 - val_loss: 0.5007 - val_mae: 0.5007 - val_mse: 0.6372\n",
            "Epoch 125/300\n",
            "3453/3453 [==============================] - 4s 1ms/step - loss: 0.4952 - mae: 0.4952 - mse: 0.6265 - val_loss: 0.5006 - val_mae: 0.5006 - val_mse: 0.6389\n",
            "Epoch 126/300\n",
            "3453/3453 [==============================] - 4s 1ms/step - loss: 0.4952 - mae: 0.4952 - mse: 0.6272 - val_loss: 0.5007 - val_mae: 0.5007 - val_mse: 0.6365\n",
            "Epoch 127/300\n",
            "3453/3453 [==============================] - 4s 1ms/step - loss: 0.4952 - mae: 0.4952 - mse: 0.6269 - val_loss: 0.5011 - val_mae: 0.5011 - val_mse: 0.6329\n",
            "Epoch 128/300\n",
            "3453/3453 [==============================] - 4s 1ms/step - loss: 0.4952 - mae: 0.4952 - mse: 0.6279 - val_loss: 0.5009 - val_mae: 0.5009 - val_mse: 0.6309\n",
            "Epoch 129/300\n",
            "3453/3453 [==============================] - 4s 1ms/step - loss: 0.4953 - mae: 0.4953 - mse: 0.6269 - val_loss: 0.5007 - val_mae: 0.5007 - val_mse: 0.6367\n",
            "Epoch 130/300\n",
            "3453/3453 [==============================] - 4s 1ms/step - loss: 0.4952 - mae: 0.4952 - mse: 0.6268 - val_loss: 0.5007 - val_mae: 0.5007 - val_mse: 0.6313\n",
            "Epoch 131/300\n",
            "3453/3453 [==============================] - 4s 1ms/step - loss: 0.4952 - mae: 0.4952 - mse: 0.6257 - val_loss: 0.5006 - val_mae: 0.5006 - val_mse: 0.6374\n",
            "Epoch 132/300\n",
            "3453/3453 [==============================] - 4s 1ms/step - loss: 0.4952 - mae: 0.4952 - mse: 0.6282 - val_loss: 0.5007 - val_mae: 0.5007 - val_mse: 0.6372\n",
            "Epoch 133/300\n",
            "3453/3453 [==============================] - 4s 1ms/step - loss: 0.4952 - mae: 0.4952 - mse: 0.6282 - val_loss: 0.5007 - val_mae: 0.5007 - val_mse: 0.6346\n",
            "Epoch 134/300\n",
            "3453/3453 [==============================] - 4s 1ms/step - loss: 0.4952 - mae: 0.4952 - mse: 0.6254 - val_loss: 0.5007 - val_mae: 0.5007 - val_mse: 0.6386\n",
            "Epoch 135/300\n",
            "3453/3453 [==============================] - 4s 1ms/step - loss: 0.4953 - mae: 0.4953 - mse: 0.6265 - val_loss: 0.5009 - val_mae: 0.5009 - val_mse: 0.6387\n",
            "Epoch 136/300\n",
            "3453/3453 [==============================] - 4s 1ms/step - loss: 0.4952 - mae: 0.4952 - mse: 0.6286 - val_loss: 0.5006 - val_mae: 0.5006 - val_mse: 0.6374\n",
            "Epoch 137/300\n",
            "3453/3453 [==============================] - 4s 1ms/step - loss: 0.4952 - mae: 0.4952 - mse: 0.6280 - val_loss: 0.5008 - val_mae: 0.5008 - val_mse: 0.6333\n",
            "Epoch 138/300\n",
            "3453/3453 [==============================] - 4s 1ms/step - loss: 0.4952 - mae: 0.4952 - mse: 0.6253 - val_loss: 0.5009 - val_mae: 0.5009 - val_mse: 0.6362\n",
            "Epoch 139/300\n",
            "3453/3453 [==============================] - 4s 1ms/step - loss: 0.4952 - mae: 0.4952 - mse: 0.6281 - val_loss: 0.5007 - val_mae: 0.5007 - val_mse: 0.6389\n",
            "Epoch 140/300\n",
            "3453/3453 [==============================] - 4s 1ms/step - loss: 0.4952 - mae: 0.4952 - mse: 0.6270 - val_loss: 0.5007 - val_mae: 0.5007 - val_mse: 0.6369\n",
            "Epoch 141/300\n",
            "3453/3453 [==============================] - 4s 1ms/step - loss: 0.4952 - mae: 0.4952 - mse: 0.6279 - val_loss: 0.5006 - val_mae: 0.5006 - val_mse: 0.6396\n",
            "Epoch 142/300\n",
            "3453/3453 [==============================] - 4s 1ms/step - loss: 0.4952 - mae: 0.4952 - mse: 0.6278 - val_loss: 0.5007 - val_mae: 0.5007 - val_mse: 0.6307\n",
            "Epoch 143/300\n",
            "3453/3453 [==============================] - 4s 1ms/step - loss: 0.4953 - mae: 0.4953 - mse: 0.6258 - val_loss: 0.5008 - val_mae: 0.5008 - val_mse: 0.6303\n",
            "Epoch 144/300\n",
            "3453/3453 [==============================] - 4s 1ms/step - loss: 0.4952 - mae: 0.4952 - mse: 0.6273 - val_loss: 0.5007 - val_mae: 0.5007 - val_mse: 0.6363\n",
            "Epoch 145/300\n",
            "3453/3453 [==============================] - 4s 1ms/step - loss: 0.4952 - mae: 0.4952 - mse: 0.6259 - val_loss: 0.5008 - val_mae: 0.5008 - val_mse: 0.6376\n",
            "Epoch 146/300\n",
            "3453/3453 [==============================] - 4s 1ms/step - loss: 0.4952 - mae: 0.4952 - mse: 0.6281 - val_loss: 0.5011 - val_mae: 0.5011 - val_mse: 0.6282\n",
            "Epoch 147/300\n",
            "3453/3453 [==============================] - 4s 1ms/step - loss: 0.4952 - mae: 0.4952 - mse: 0.6265 - val_loss: 0.5010 - val_mae: 0.5010 - val_mse: 0.6316\n",
            "Epoch 148/300\n",
            "3453/3453 [==============================] - 4s 1ms/step - loss: 0.4952 - mae: 0.4952 - mse: 0.6267 - val_loss: 0.5007 - val_mae: 0.5007 - val_mse: 0.6390\n",
            "Epoch 149/300\n",
            "3453/3453 [==============================] - 4s 1ms/step - loss: 0.4953 - mae: 0.4953 - mse: 0.6277 - val_loss: 0.5007 - val_mae: 0.5007 - val_mse: 0.6363\n",
            "Epoch 150/300\n",
            "3453/3453 [==============================] - 4s 1ms/step - loss: 0.4952 - mae: 0.4952 - mse: 0.6285 - val_loss: 0.5008 - val_mae: 0.5008 - val_mse: 0.6339\n",
            "Epoch 151/300\n",
            "3453/3453 [==============================] - 4s 1ms/step - loss: 0.4952 - mae: 0.4952 - mse: 0.6280 - val_loss: 0.5008 - val_mae: 0.5008 - val_mse: 0.6395\n",
            "Epoch 152/300\n",
            "3453/3453 [==============================] - 4s 1ms/step - loss: 0.4952 - mae: 0.4952 - mse: 0.6278 - val_loss: 0.5008 - val_mae: 0.5008 - val_mse: 0.6339\n",
            "Epoch 153/300\n",
            "3453/3453 [==============================] - 4s 1ms/step - loss: 0.4953 - mae: 0.4953 - mse: 0.6277 - val_loss: 0.5009 - val_mae: 0.5009 - val_mse: 0.6330\n",
            "Epoch 154/300\n",
            "3453/3453 [==============================] - 4s 1ms/step - loss: 0.4952 - mae: 0.4952 - mse: 0.6249 - val_loss: 0.5007 - val_mae: 0.5007 - val_mse: 0.6386\n",
            "Epoch 155/300\n",
            "3453/3453 [==============================] - 4s 1ms/step - loss: 0.4952 - mae: 0.4952 - mse: 0.6281 - val_loss: 0.5006 - val_mae: 0.5006 - val_mse: 0.6376\n",
            "Epoch 156/300\n",
            "3453/3453 [==============================] - 4s 1ms/step - loss: 0.4952 - mae: 0.4952 - mse: 0.6280 - val_loss: 0.5006 - val_mae: 0.5006 - val_mse: 0.6329\n",
            "Epoch 157/300\n",
            "3453/3453 [==============================] - 4s 1ms/step - loss: 0.4952 - mae: 0.4952 - mse: 0.6259 - val_loss: 0.5007 - val_mae: 0.5007 - val_mse: 0.6357\n",
            "Epoch 158/300\n",
            "3453/3453 [==============================] - 4s 1ms/step - loss: 0.4952 - mae: 0.4952 - mse: 0.6277 - val_loss: 0.5008 - val_mae: 0.5008 - val_mse: 0.6363\n",
            "Epoch 159/300\n",
            "3453/3453 [==============================] - 4s 1ms/step - loss: 0.4952 - mae: 0.4952 - mse: 0.6272 - val_loss: 0.5008 - val_mae: 0.5008 - val_mse: 0.6271\n",
            "Epoch 160/300\n",
            "3453/3453 [==============================] - 4s 1ms/step - loss: 0.4953 - mae: 0.4953 - mse: 0.6254 - val_loss: 0.5011 - val_mae: 0.5011 - val_mse: 0.6354\n",
            "Epoch 161/300\n",
            "3453/3453 [==============================] - 4s 1ms/step - loss: 0.4952 - mae: 0.4952 - mse: 0.6265 - val_loss: 0.5008 - val_mae: 0.5008 - val_mse: 0.6350\n",
            "Epoch 162/300\n",
            "3453/3453 [==============================] - 4s 1ms/step - loss: 0.4952 - mae: 0.4952 - mse: 0.6274 - val_loss: 0.5008 - val_mae: 0.5008 - val_mse: 0.6376\n",
            "Epoch 163/300\n",
            "3453/3453 [==============================] - 4s 1ms/step - loss: 0.4952 - mae: 0.4952 - mse: 0.6284 - val_loss: 0.5007 - val_mae: 0.5007 - val_mse: 0.6384\n",
            "Epoch 164/300\n",
            "3453/3453 [==============================] - 4s 1ms/step - loss: 0.4952 - mae: 0.4952 - mse: 0.6264 - val_loss: 0.5007 - val_mae: 0.5007 - val_mse: 0.6352\n",
            "Epoch 165/300\n",
            "3453/3453 [==============================] - 4s 1ms/step - loss: 0.4952 - mae: 0.4952 - mse: 0.6279 - val_loss: 0.5007 - val_mae: 0.5007 - val_mse: 0.6351\n",
            "Epoch 166/300\n",
            "3453/3453 [==============================] - 4s 1ms/step - loss: 0.4952 - mae: 0.4952 - mse: 0.6283 - val_loss: 0.5007 - val_mae: 0.5007 - val_mse: 0.6376\n",
            "Epoch 167/300\n",
            "3453/3453 [==============================] - 4s 1ms/step - loss: 0.4952 - mae: 0.4952 - mse: 0.6281 - val_loss: 0.5007 - val_mae: 0.5007 - val_mse: 0.6340\n",
            "Epoch 168/300\n",
            "3453/3453 [==============================] - 4s 1ms/step - loss: 0.4953 - mae: 0.4953 - mse: 0.6283 - val_loss: 0.5007 - val_mae: 0.5007 - val_mse: 0.6345\n",
            "Epoch 169/300\n",
            "3453/3453 [==============================] - 4s 1ms/step - loss: 0.4952 - mae: 0.4952 - mse: 0.6259 - val_loss: 0.5007 - val_mae: 0.5007 - val_mse: 0.6387\n",
            "Epoch 170/300\n",
            "3453/3453 [==============================] - 4s 1ms/step - loss: 0.4952 - mae: 0.4952 - mse: 0.6280 - val_loss: 0.5009 - val_mae: 0.5009 - val_mse: 0.6268\n",
            "Epoch 171/300\n",
            "3453/3453 [==============================] - 4s 1ms/step - loss: 0.4953 - mae: 0.4953 - mse: 0.6224 - val_loss: 0.5007 - val_mae: 0.5007 - val_mse: 0.6369\n",
            "Epoch 172/300\n",
            "3453/3453 [==============================] - 4s 1ms/step - loss: 0.4952 - mae: 0.4952 - mse: 0.6272 - val_loss: 0.5008 - val_mae: 0.5008 - val_mse: 0.6368\n",
            "Epoch 173/300\n",
            "3453/3453 [==============================] - 4s 1ms/step - loss: 0.4952 - mae: 0.4952 - mse: 0.6281 - val_loss: 0.5008 - val_mae: 0.5008 - val_mse: 0.6331\n",
            "Epoch 174/300\n",
            "3453/3453 [==============================] - 4s 1ms/step - loss: 0.4952 - mae: 0.4952 - mse: 0.6279 - val_loss: 0.5013 - val_mae: 0.5013 - val_mse: 0.6289\n",
            "Epoch 175/300\n",
            "3453/3453 [==============================] - 4s 1ms/step - loss: 0.4953 - mae: 0.4953 - mse: 0.6256 - val_loss: 0.5008 - val_mae: 0.5008 - val_mse: 0.6381\n",
            "Epoch 176/300\n",
            "3453/3453 [==============================] - 4s 1ms/step - loss: 0.4952 - mae: 0.4952 - mse: 0.6254 - val_loss: 0.5012 - val_mae: 0.5012 - val_mse: 0.6331\n",
            "Epoch 177/300\n",
            "3453/3453 [==============================] - 4s 1ms/step - loss: 0.4952 - mae: 0.4952 - mse: 0.6265 - val_loss: 0.5011 - val_mae: 0.5011 - val_mse: 0.6336\n",
            "Epoch 178/300\n",
            "3453/3453 [==============================] - 4s 1ms/step - loss: 0.4952 - mae: 0.4952 - mse: 0.6286 - val_loss: 0.5006 - val_mae: 0.5006 - val_mse: 0.6349\n",
            "Epoch 179/300\n",
            "3453/3453 [==============================] - 4s 1ms/step - loss: 0.4953 - mae: 0.4953 - mse: 0.6269 - val_loss: 0.5007 - val_mae: 0.5007 - val_mse: 0.6390\n",
            "Epoch 180/300\n",
            "3453/3453 [==============================] - 4s 1ms/step - loss: 0.4952 - mae: 0.4952 - mse: 0.6281 - val_loss: 0.5010 - val_mae: 0.5010 - val_mse: 0.6314\n",
            "Epoch 181/300\n",
            "3453/3453 [==============================] - 4s 1ms/step - loss: 0.4952 - mae: 0.4952 - mse: 0.6268 - val_loss: 0.5012 - val_mae: 0.5012 - val_mse: 0.6307\n",
            "Epoch 182/300\n",
            "3453/3453 [==============================] - 4s 1ms/step - loss: 0.4953 - mae: 0.4953 - mse: 0.6258 - val_loss: 0.5011 - val_mae: 0.5011 - val_mse: 0.6306\n",
            "Epoch 183/300\n",
            "3453/3453 [==============================] - 4s 1ms/step - loss: 0.4952 - mae: 0.4952 - mse: 0.6276 - val_loss: 0.5008 - val_mae: 0.5008 - val_mse: 0.6364\n",
            "Epoch 184/300\n",
            "3453/3453 [==============================] - 4s 1ms/step - loss: 0.4952 - mae: 0.4952 - mse: 0.6281 - val_loss: 0.5010 - val_mae: 0.5010 - val_mse: 0.6347\n",
            "Epoch 185/300\n",
            "3453/3453 [==============================] - 4s 1ms/step - loss: 0.4952 - mae: 0.4952 - mse: 0.6282 - val_loss: 0.5008 - val_mae: 0.5008 - val_mse: 0.6358\n",
            "Epoch 186/300\n",
            "3453/3453 [==============================] - 4s 1ms/step - loss: 0.4952 - mae: 0.4952 - mse: 0.6283 - val_loss: 0.5010 - val_mae: 0.5010 - val_mse: 0.6353\n",
            "Epoch 187/300\n",
            "3453/3453 [==============================] - 4s 1ms/step - loss: 0.4952 - mae: 0.4952 - mse: 0.6269 - val_loss: 0.5009 - val_mae: 0.5009 - val_mse: 0.6372\n",
            "Epoch 188/300\n",
            "3453/3453 [==============================] - 4s 1ms/step - loss: 0.4952 - mae: 0.4952 - mse: 0.6270 - val_loss: 0.5006 - val_mae: 0.5006 - val_mse: 0.6329\n",
            "Epoch 189/300\n",
            "3453/3453 [==============================] - 4s 1ms/step - loss: 0.4952 - mae: 0.4952 - mse: 0.6271 - val_loss: 0.5008 - val_mae: 0.5008 - val_mse: 0.6352\n",
            "Epoch 190/300\n",
            "3453/3453 [==============================] - 4s 1ms/step - loss: 0.4952 - mae: 0.4952 - mse: 0.6279 - val_loss: 0.5011 - val_mae: 0.5011 - val_mse: 0.6385\n",
            "Epoch 191/300\n",
            "3453/3453 [==============================] - 4s 1ms/step - loss: 0.4952 - mae: 0.4952 - mse: 0.6288 - val_loss: 0.5011 - val_mae: 0.5011 - val_mse: 0.6321\n",
            "Epoch 192/300\n",
            "3453/3453 [==============================] - 4s 1ms/step - loss: 0.4952 - mae: 0.4952 - mse: 0.6281 - val_loss: 0.5008 - val_mae: 0.5008 - val_mse: 0.6354\n",
            "Epoch 193/300\n",
            "3453/3453 [==============================] - 4s 1ms/step - loss: 0.4952 - mae: 0.4952 - mse: 0.6260 - val_loss: 0.5009 - val_mae: 0.5009 - val_mse: 0.6353\n",
            "Epoch 194/300\n",
            "3453/3453 [==============================] - 4s 1ms/step - loss: 0.4952 - mae: 0.4952 - mse: 0.6281 - val_loss: 0.5008 - val_mae: 0.5008 - val_mse: 0.6353\n",
            "Epoch 195/300\n",
            "3453/3453 [==============================] - 4s 1ms/step - loss: 0.4953 - mae: 0.4953 - mse: 0.6234 - val_loss: 0.5008 - val_mae: 0.5008 - val_mse: 0.6374\n",
            "Epoch 196/300\n",
            "3453/3453 [==============================] - 4s 1ms/step - loss: 0.4953 - mae: 0.4953 - mse: 0.6276 - val_loss: 0.5008 - val_mae: 0.5008 - val_mse: 0.6360\n",
            "Epoch 197/300\n",
            "3453/3453 [==============================] - 4s 1ms/step - loss: 0.4952 - mae: 0.4952 - mse: 0.6275 - val_loss: 0.5008 - val_mae: 0.5008 - val_mse: 0.6377\n",
            "Epoch 198/300\n",
            "3453/3453 [==============================] - 4s 1ms/step - loss: 0.4952 - mae: 0.4952 - mse: 0.6279 - val_loss: 0.5006 - val_mae: 0.5006 - val_mse: 0.6341\n",
            "Epoch 199/300\n",
            "3453/3453 [==============================] - 4s 1ms/step - loss: 0.4952 - mae: 0.4952 - mse: 0.6253 - val_loss: 0.5007 - val_mae: 0.5007 - val_mse: 0.6366\n",
            "Epoch 200/300\n",
            "3453/3453 [==============================] - 4s 1ms/step - loss: 0.4952 - mae: 0.4952 - mse: 0.6278 - val_loss: 0.5008 - val_mae: 0.5008 - val_mse: 0.6350\n",
            "Epoch 201/300\n",
            "3453/3453 [==============================] - 4s 1ms/step - loss: 0.4952 - mae: 0.4952 - mse: 0.6281 - val_loss: 0.5012 - val_mae: 0.5012 - val_mse: 0.6321\n",
            "Epoch 202/300\n",
            "3453/3453 [==============================] - 4s 1ms/step - loss: 0.4952 - mae: 0.4952 - mse: 0.6278 - val_loss: 0.5009 - val_mae: 0.5009 - val_mse: 0.6357\n",
            "Epoch 203/300\n",
            "3453/3453 [==============================] - 4s 1ms/step - loss: 0.4952 - mae: 0.4952 - mse: 0.6271 - val_loss: 0.5007 - val_mae: 0.5007 - val_mse: 0.6382\n",
            "Epoch 204/300\n",
            "3453/3453 [==============================] - 4s 1ms/step - loss: 0.4952 - mae: 0.4952 - mse: 0.6281 - val_loss: 0.5007 - val_mae: 0.5007 - val_mse: 0.6381\n",
            "Epoch 205/300\n",
            "3453/3453 [==============================] - 4s 1ms/step - loss: 0.4952 - mae: 0.4952 - mse: 0.6264 - val_loss: 0.5007 - val_mae: 0.5007 - val_mse: 0.6382\n",
            "Epoch 206/300\n",
            "3453/3453 [==============================] - 4s 1ms/step - loss: 0.4952 - mae: 0.4952 - mse: 0.6267 - val_loss: 0.5006 - val_mae: 0.5006 - val_mse: 0.6344\n",
            "Epoch 207/300\n",
            "3453/3453 [==============================] - 4s 1ms/step - loss: 0.4952 - mae: 0.4952 - mse: 0.6273 - val_loss: 0.5008 - val_mae: 0.5008 - val_mse: 0.6346\n",
            "Epoch 208/300\n",
            "3453/3453 [==============================] - 4s 1ms/step - loss: 0.4953 - mae: 0.4953 - mse: 0.6277 - val_loss: 0.5006 - val_mae: 0.5006 - val_mse: 0.6366\n",
            "Epoch 209/300\n",
            "3453/3453 [==============================] - 4s 1ms/step - loss: 0.4952 - mae: 0.4952 - mse: 0.6285 - val_loss: 0.5008 - val_mae: 0.5008 - val_mse: 0.6347\n",
            "Epoch 210/300\n",
            "3453/3453 [==============================] - 4s 1ms/step - loss: 0.4952 - mae: 0.4952 - mse: 0.6277 - val_loss: 0.5008 - val_mae: 0.5008 - val_mse: 0.6350\n",
            "Epoch 211/300\n",
            "3453/3453 [==============================] - 4s 1ms/step - loss: 0.4952 - mae: 0.4952 - mse: 0.6245 - val_loss: 0.5009 - val_mae: 0.5009 - val_mse: 0.6360\n",
            "Epoch 212/300\n",
            "3453/3453 [==============================] - 4s 1ms/step - loss: 0.4952 - mae: 0.4952 - mse: 0.6283 - val_loss: 0.5007 - val_mae: 0.5007 - val_mse: 0.6374\n",
            "Epoch 213/300\n",
            "3453/3453 [==============================] - 4s 1ms/step - loss: 0.4952 - mae: 0.4952 - mse: 0.6284 - val_loss: 0.5008 - val_mae: 0.5008 - val_mse: 0.6372\n",
            "Epoch 214/300\n",
            "3453/3453 [==============================] - 4s 1ms/step - loss: 0.4952 - mae: 0.4952 - mse: 0.6274 - val_loss: 0.5007 - val_mae: 0.5007 - val_mse: 0.6391\n",
            "Epoch 215/300\n",
            "3453/3453 [==============================] - 4s 1ms/step - loss: 0.4952 - mae: 0.4952 - mse: 0.6287 - val_loss: 0.5007 - val_mae: 0.5007 - val_mse: 0.6368\n",
            "Epoch 216/300\n",
            "3453/3453 [==============================] - 4s 1ms/step - loss: 0.4952 - mae: 0.4952 - mse: 0.6280 - val_loss: 0.5007 - val_mae: 0.5007 - val_mse: 0.6380\n",
            "Epoch 217/300\n",
            "3453/3453 [==============================] - 4s 1ms/step - loss: 0.4952 - mae: 0.4952 - mse: 0.6280 - val_loss: 0.5007 - val_mae: 0.5007 - val_mse: 0.6381\n",
            "Epoch 218/300\n",
            "3453/3453 [==============================] - 4s 1ms/step - loss: 0.4952 - mae: 0.4952 - mse: 0.6268 - val_loss: 0.5009 - val_mae: 0.5009 - val_mse: 0.6363\n",
            "Epoch 219/300\n",
            "3453/3453 [==============================] - 4s 1ms/step - loss: 0.4952 - mae: 0.4952 - mse: 0.6285 - val_loss: 0.5011 - val_mae: 0.5011 - val_mse: 0.6330\n",
            "Epoch 220/300\n",
            "3453/3453 [==============================] - 4s 1ms/step - loss: 0.4952 - mae: 0.4952 - mse: 0.6275 - val_loss: 0.5007 - val_mae: 0.5007 - val_mse: 0.6370\n",
            "Epoch 221/300\n",
            "3453/3453 [==============================] - 4s 1ms/step - loss: 0.4952 - mae: 0.4952 - mse: 0.6271 - val_loss: 0.5008 - val_mae: 0.5008 - val_mse: 0.6378\n",
            "Epoch 222/300\n",
            "3453/3453 [==============================] - 4s 1ms/step - loss: 0.4952 - mae: 0.4952 - mse: 0.6266 - val_loss: 0.5007 - val_mae: 0.5007 - val_mse: 0.6389\n",
            "Epoch 223/300\n",
            "3453/3453 [==============================] - 4s 1ms/step - loss: 0.4952 - mae: 0.4952 - mse: 0.6286 - val_loss: 0.5007 - val_mae: 0.5007 - val_mse: 0.6346\n",
            "Epoch 224/300\n",
            "3453/3453 [==============================] - 4s 1ms/step - loss: 0.4953 - mae: 0.4953 - mse: 0.6272 - val_loss: 0.5007 - val_mae: 0.5007 - val_mse: 0.6392\n",
            "Epoch 225/300\n",
            "3453/3453 [==============================] - 4s 1ms/step - loss: 0.4952 - mae: 0.4952 - mse: 0.6287 - val_loss: 0.5007 - val_mae: 0.5007 - val_mse: 0.6385\n",
            "Epoch 226/300\n",
            "3453/3453 [==============================] - 4s 1ms/step - loss: 0.4952 - mae: 0.4952 - mse: 0.6278 - val_loss: 0.5009 - val_mae: 0.5009 - val_mse: 0.6321\n",
            "Epoch 227/300\n",
            "3453/3453 [==============================] - 4s 1ms/step - loss: 0.4952 - mae: 0.4952 - mse: 0.6278 - val_loss: 0.5007 - val_mae: 0.5007 - val_mse: 0.6356\n",
            "Epoch 228/300\n",
            "3453/3453 [==============================] - 4s 1ms/step - loss: 0.4952 - mae: 0.4952 - mse: 0.6267 - val_loss: 0.5008 - val_mae: 0.5008 - val_mse: 0.6354\n",
            "Epoch 229/300\n",
            "3453/3453 [==============================] - 4s 1ms/step - loss: 0.4952 - mae: 0.4952 - mse: 0.6274 - val_loss: 0.5006 - val_mae: 0.5006 - val_mse: 0.6364\n",
            "Epoch 230/300\n",
            "3453/3453 [==============================] - 4s 1ms/step - loss: 0.4952 - mae: 0.4952 - mse: 0.6282 - val_loss: 0.5006 - val_mae: 0.5006 - val_mse: 0.6380\n",
            "Epoch 231/300\n",
            "3453/3453 [==============================] - 4s 1ms/step - loss: 0.4952 - mae: 0.4952 - mse: 0.6279 - val_loss: 0.5007 - val_mae: 0.5007 - val_mse: 0.6362\n",
            "Epoch 232/300\n",
            "3453/3453 [==============================] - 4s 1ms/step - loss: 0.4952 - mae: 0.4952 - mse: 0.6269 - val_loss: 0.5006 - val_mae: 0.5006 - val_mse: 0.6394\n",
            "Epoch 233/300\n",
            "3453/3453 [==============================] - 4s 1ms/step - loss: 0.4952 - mae: 0.4952 - mse: 0.6284 - val_loss: 0.5007 - val_mae: 0.5007 - val_mse: 0.6387\n",
            "Epoch 234/300\n",
            "3453/3453 [==============================] - 4s 1ms/step - loss: 0.4952 - mae: 0.4952 - mse: 0.6281 - val_loss: 0.5008 - val_mae: 0.5008 - val_mse: 0.6360\n",
            "Epoch 235/300\n",
            "3453/3453 [==============================] - 4s 1ms/step - loss: 0.4952 - mae: 0.4952 - mse: 0.6277 - val_loss: 0.5007 - val_mae: 0.5007 - val_mse: 0.6328\n",
            "Epoch 236/300\n",
            "3453/3453 [==============================] - 4s 1ms/step - loss: 0.4952 - mae: 0.4952 - mse: 0.6263 - val_loss: 0.5007 - val_mae: 0.5007 - val_mse: 0.6389\n",
            "Epoch 237/300\n",
            "3453/3453 [==============================] - 4s 1ms/step - loss: 0.4952 - mae: 0.4952 - mse: 0.6278 - val_loss: 0.5009 - val_mae: 0.5009 - val_mse: 0.6330\n",
            "Epoch 238/300\n",
            "3453/3453 [==============================] - 4s 1ms/step - loss: 0.4952 - mae: 0.4952 - mse: 0.6271 - val_loss: 0.5012 - val_mae: 0.5012 - val_mse: 0.6337\n",
            "Epoch 239/300\n",
            "3453/3453 [==============================] - 4s 1ms/step - loss: 0.4952 - mae: 0.4952 - mse: 0.6282 - val_loss: 0.5007 - val_mae: 0.5007 - val_mse: 0.6370\n",
            "Epoch 240/300\n",
            "3453/3453 [==============================] - 4s 1ms/step - loss: 0.4952 - mae: 0.4952 - mse: 0.6248 - val_loss: 0.5010 - val_mae: 0.5010 - val_mse: 0.6309\n",
            "Epoch 241/300\n",
            "3453/3453 [==============================] - 4s 1ms/step - loss: 0.4953 - mae: 0.4953 - mse: 0.6264 - val_loss: 0.5009 - val_mae: 0.5009 - val_mse: 0.6347\n",
            "Epoch 242/300\n",
            "3453/3453 [==============================] - 4s 1ms/step - loss: 0.4953 - mae: 0.4953 - mse: 0.6279 - val_loss: 0.5007 - val_mae: 0.5007 - val_mse: 0.6359\n",
            "Epoch 243/300\n",
            "3453/3453 [==============================] - 4s 1ms/step - loss: 0.4952 - mae: 0.4952 - mse: 0.6269 - val_loss: 0.5014 - val_mae: 0.5014 - val_mse: 0.6359\n",
            "Epoch 244/300\n",
            "3453/3453 [==============================] - 4s 1ms/step - loss: 0.4952 - mae: 0.4952 - mse: 0.6274 - val_loss: 0.5007 - val_mae: 0.5007 - val_mse: 0.6322\n",
            "Epoch 245/300\n",
            "3453/3453 [==============================] - 4s 1ms/step - loss: 0.4952 - mae: 0.4952 - mse: 0.6268 - val_loss: 0.5007 - val_mae: 0.5007 - val_mse: 0.6345\n",
            "Epoch 246/300\n",
            "3453/3453 [==============================] - 4s 1ms/step - loss: 0.4952 - mae: 0.4952 - mse: 0.6258 - val_loss: 0.5011 - val_mae: 0.5011 - val_mse: 0.6387\n",
            "Epoch 247/300\n",
            "3453/3453 [==============================] - 4s 1ms/step - loss: 0.4952 - mae: 0.4952 - mse: 0.6283 - val_loss: 0.5006 - val_mae: 0.5006 - val_mse: 0.6373\n",
            "Epoch 248/300\n",
            "3453/3453 [==============================] - 4s 1ms/step - loss: 0.4953 - mae: 0.4953 - mse: 0.6257 - val_loss: 0.5006 - val_mae: 0.5006 - val_mse: 0.6380\n",
            "Epoch 249/300\n",
            "3453/3453 [==============================] - 4s 1ms/step - loss: 0.4952 - mae: 0.4952 - mse: 0.6270 - val_loss: 0.5010 - val_mae: 0.5010 - val_mse: 0.6404\n",
            "Epoch 250/300\n",
            "3453/3453 [==============================] - 4s 1ms/step - loss: 0.4952 - mae: 0.4952 - mse: 0.6274 - val_loss: 0.5007 - val_mae: 0.5007 - val_mse: 0.6377\n",
            "Epoch 251/300\n",
            "3453/3453 [==============================] - 4s 1ms/step - loss: 0.4952 - mae: 0.4952 - mse: 0.6286 - val_loss: 0.5008 - val_mae: 0.5008 - val_mse: 0.6352\n",
            "Epoch 252/300\n",
            "3453/3453 [==============================] - 4s 1ms/step - loss: 0.4952 - mae: 0.4952 - mse: 0.6273 - val_loss: 0.5007 - val_mae: 0.5007 - val_mse: 0.6381\n",
            "Epoch 253/300\n",
            "3453/3453 [==============================] - 4s 1ms/step - loss: 0.4952 - mae: 0.4952 - mse: 0.6273 - val_loss: 0.5008 - val_mae: 0.5008 - val_mse: 0.6310\n",
            "Epoch 254/300\n",
            "3453/3453 [==============================] - 4s 1ms/step - loss: 0.4952 - mae: 0.4952 - mse: 0.6268 - val_loss: 0.5007 - val_mae: 0.5007 - val_mse: 0.6391\n",
            "Epoch 255/300\n",
            "3453/3453 [==============================] - 4s 1ms/step - loss: 0.4952 - mae: 0.4952 - mse: 0.6269 - val_loss: 0.5006 - val_mae: 0.5006 - val_mse: 0.6387\n",
            "Epoch 256/300\n",
            "3453/3453 [==============================] - 4s 1ms/step - loss: 0.4952 - mae: 0.4952 - mse: 0.6280 - val_loss: 0.5007 - val_mae: 0.5007 - val_mse: 0.6386\n",
            "Epoch 257/300\n",
            "3453/3453 [==============================] - 4s 1ms/step - loss: 0.4952 - mae: 0.4952 - mse: 0.6284 - val_loss: 0.5007 - val_mae: 0.5007 - val_mse: 0.6362\n",
            "Epoch 258/300\n",
            "3453/3453 [==============================] - 4s 1ms/step - loss: 0.4952 - mae: 0.4952 - mse: 0.6262 - val_loss: 0.5014 - val_mae: 0.5014 - val_mse: 0.6354\n",
            "Epoch 259/300\n",
            "3453/3453 [==============================] - 4s 1ms/step - loss: 0.4952 - mae: 0.4952 - mse: 0.6262 - val_loss: 0.5008 - val_mae: 0.5008 - val_mse: 0.6372\n",
            "Epoch 260/300\n",
            "3453/3453 [==============================] - 4s 1ms/step - loss: 0.4952 - mae: 0.4952 - mse: 0.6283 - val_loss: 0.5007 - val_mae: 0.5007 - val_mse: 0.6380\n",
            "Epoch 261/300\n",
            "3453/3453 [==============================] - 4s 1ms/step - loss: 0.4952 - mae: 0.4952 - mse: 0.6278 - val_loss: 0.5015 - val_mae: 0.5015 - val_mse: 0.6256\n",
            "Epoch 262/300\n",
            "3453/3453 [==============================] - 4s 1ms/step - loss: 0.4952 - mae: 0.4952 - mse: 0.6284 - val_loss: 0.5007 - val_mae: 0.5007 - val_mse: 0.6354\n",
            "Epoch 263/300\n",
            "3453/3453 [==============================] - 4s 1ms/step - loss: 0.4952 - mae: 0.4952 - mse: 0.6253 - val_loss: 0.5007 - val_mae: 0.5007 - val_mse: 0.6364\n",
            "Epoch 264/300\n",
            "3453/3453 [==============================] - 4s 1ms/step - loss: 0.4952 - mae: 0.4952 - mse: 0.6268 - val_loss: 0.5008 - val_mae: 0.5008 - val_mse: 0.6373\n",
            "Epoch 265/300\n",
            "3453/3453 [==============================] - 4s 1ms/step - loss: 0.4952 - mae: 0.4952 - mse: 0.6258 - val_loss: 0.5008 - val_mae: 0.5008 - val_mse: 0.6363\n",
            "Epoch 266/300\n",
            "3453/3453 [==============================] - 4s 1ms/step - loss: 0.4952 - mae: 0.4952 - mse: 0.6280 - val_loss: 0.5008 - val_mae: 0.5008 - val_mse: 0.6373\n",
            "Epoch 267/300\n",
            "3453/3453 [==============================] - 4s 1ms/step - loss: 0.4952 - mae: 0.4952 - mse: 0.6276 - val_loss: 0.5012 - val_mae: 0.5012 - val_mse: 0.6333\n",
            "Epoch 268/300\n",
            "3453/3453 [==============================] - 4s 1ms/step - loss: 0.4952 - mae: 0.4952 - mse: 0.6284 - val_loss: 0.5007 - val_mae: 0.5007 - val_mse: 0.6359\n",
            "Epoch 269/300\n",
            "3453/3453 [==============================] - 4s 1ms/step - loss: 0.4952 - mae: 0.4952 - mse: 0.6282 - val_loss: 0.5009 - val_mae: 0.5009 - val_mse: 0.6332\n",
            "Epoch 270/300\n",
            "3453/3453 [==============================] - 4s 1ms/step - loss: 0.4953 - mae: 0.4953 - mse: 0.6277 - val_loss: 0.5007 - val_mae: 0.5007 - val_mse: 0.6388\n",
            "Epoch 271/300\n",
            "3453/3453 [==============================] - 4s 1ms/step - loss: 0.4952 - mae: 0.4952 - mse: 0.6292 - val_loss: 0.5007 - val_mae: 0.5007 - val_mse: 0.6364\n",
            "Epoch 272/300\n",
            "3453/3453 [==============================] - 4s 1ms/step - loss: 0.4952 - mae: 0.4952 - mse: 0.6257 - val_loss: 0.5007 - val_mae: 0.5007 - val_mse: 0.6381\n",
            "Epoch 273/300\n",
            "3453/3453 [==============================] - 4s 1ms/step - loss: 0.4952 - mae: 0.4952 - mse: 0.6279 - val_loss: 0.5007 - val_mae: 0.5007 - val_mse: 0.6382\n",
            "Epoch 274/300\n",
            "3453/3453 [==============================] - 4s 1ms/step - loss: 0.4953 - mae: 0.4953 - mse: 0.6283 - val_loss: 0.5006 - val_mae: 0.5006 - val_mse: 0.6351\n",
            "Epoch 275/300\n",
            "3453/3453 [==============================] - 4s 1ms/step - loss: 0.4952 - mae: 0.4952 - mse: 0.6270 - val_loss: 0.5009 - val_mae: 0.5009 - val_mse: 0.6305\n",
            "Epoch 276/300\n",
            "3453/3453 [==============================] - 4s 1ms/step - loss: 0.4952 - mae: 0.4952 - mse: 0.6280 - val_loss: 0.5009 - val_mae: 0.5009 - val_mse: 0.6332\n",
            "Epoch 277/300\n",
            "3453/3453 [==============================] - 4s 1ms/step - loss: 0.4952 - mae: 0.4952 - mse: 0.6264 - val_loss: 0.5008 - val_mae: 0.5008 - val_mse: 0.6357\n",
            "Epoch 278/300\n",
            "3453/3453 [==============================] - 4s 1ms/step - loss: 0.4952 - mae: 0.4952 - mse: 0.6273 - val_loss: 0.5007 - val_mae: 0.5007 - val_mse: 0.6367\n",
            "Epoch 279/300\n",
            "3453/3453 [==============================] - 4s 1ms/step - loss: 0.4952 - mae: 0.4952 - mse: 0.6253 - val_loss: 0.5009 - val_mae: 0.5009 - val_mse: 0.6373\n",
            "Epoch 280/300\n",
            "3453/3453 [==============================] - 4s 1ms/step - loss: 0.4952 - mae: 0.4952 - mse: 0.6278 - val_loss: 0.5008 - val_mae: 0.5008 - val_mse: 0.6376\n",
            "Epoch 281/300\n",
            "3453/3453 [==============================] - 4s 1ms/step - loss: 0.4952 - mae: 0.4952 - mse: 0.6278 - val_loss: 0.5007 - val_mae: 0.5007 - val_mse: 0.6369\n",
            "Epoch 282/300\n",
            "3453/3453 [==============================] - 4s 1ms/step - loss: 0.4952 - mae: 0.4952 - mse: 0.6288 - val_loss: 0.5007 - val_mae: 0.5007 - val_mse: 0.6395\n",
            "Epoch 283/300\n",
            "3453/3453 [==============================] - 4s 1ms/step - loss: 0.4952 - mae: 0.4952 - mse: 0.6286 - val_loss: 0.5009 - val_mae: 0.5009 - val_mse: 0.6347\n",
            "Epoch 284/300\n",
            "3453/3453 [==============================] - 4s 1ms/step - loss: 0.4952 - mae: 0.4952 - mse: 0.6267 - val_loss: 0.5009 - val_mae: 0.5009 - val_mse: 0.6389\n",
            "Epoch 285/300\n",
            "3453/3453 [==============================] - 4s 1ms/step - loss: 0.4952 - mae: 0.4952 - mse: 0.6281 - val_loss: 0.5007 - val_mae: 0.5007 - val_mse: 0.6376\n",
            "Epoch 286/300\n",
            "3453/3453 [==============================] - 4s 1ms/step - loss: 0.4952 - mae: 0.4952 - mse: 0.6273 - val_loss: 0.5008 - val_mae: 0.5008 - val_mse: 0.6357\n",
            "Epoch 287/300\n",
            "3453/3453 [==============================] - 4s 1ms/step - loss: 0.4952 - mae: 0.4952 - mse: 0.6273 - val_loss: 0.5007 - val_mae: 0.5007 - val_mse: 0.6349\n",
            "Epoch 288/300\n",
            "3453/3453 [==============================] - 4s 1ms/step - loss: 0.4952 - mae: 0.4952 - mse: 0.6279 - val_loss: 0.5007 - val_mae: 0.5007 - val_mse: 0.6371\n",
            "Epoch 289/300\n",
            "3453/3453 [==============================] - 4s 1ms/step - loss: 0.4952 - mae: 0.4952 - mse: 0.6260 - val_loss: 0.5007 - val_mae: 0.5007 - val_mse: 0.6380\n",
            "Epoch 290/300\n",
            "3453/3453 [==============================] - 4s 1ms/step - loss: 0.4952 - mae: 0.4952 - mse: 0.6254 - val_loss: 0.5007 - val_mae: 0.5007 - val_mse: 0.6398\n",
            "Epoch 291/300\n",
            "3453/3453 [==============================] - 4s 1ms/step - loss: 0.4953 - mae: 0.4953 - mse: 0.6275 - val_loss: 0.5007 - val_mae: 0.5007 - val_mse: 0.6387\n",
            "Epoch 292/300\n",
            "3453/3453 [==============================] - 4s 1ms/step - loss: 0.4953 - mae: 0.4953 - mse: 0.6261 - val_loss: 0.5009 - val_mae: 0.5009 - val_mse: 0.6345\n",
            "Epoch 293/300\n",
            "3453/3453 [==============================] - 4s 1ms/step - loss: 0.4952 - mae: 0.4952 - mse: 0.6279 - val_loss: 0.5008 - val_mae: 0.5008 - val_mse: 0.6366\n",
            "Epoch 294/300\n",
            "3453/3453 [==============================] - 4s 1ms/step - loss: 0.4952 - mae: 0.4952 - mse: 0.6280 - val_loss: 0.5007 - val_mae: 0.5007 - val_mse: 0.6337\n",
            "Epoch 295/300\n",
            "3453/3453 [==============================] - 4s 1ms/step - loss: 0.4952 - mae: 0.4952 - mse: 0.6275 - val_loss: 0.5009 - val_mae: 0.5009 - val_mse: 0.6318\n",
            "Epoch 296/300\n",
            "3453/3453 [==============================] - 4s 1ms/step - loss: 0.4953 - mae: 0.4953 - mse: 0.6254 - val_loss: 0.5008 - val_mae: 0.5008 - val_mse: 0.6374\n",
            "Epoch 297/300\n",
            "3453/3453 [==============================] - 4s 1ms/step - loss: 0.4953 - mae: 0.4953 - mse: 0.6261 - val_loss: 0.5006 - val_mae: 0.5006 - val_mse: 0.6383\n",
            "Epoch 298/300\n",
            "3453/3453 [==============================] - 4s 1ms/step - loss: 0.4952 - mae: 0.4952 - mse: 0.6274 - val_loss: 0.5009 - val_mae: 0.5009 - val_mse: 0.6392\n",
            "Epoch 299/300\n",
            "3453/3453 [==============================] - 4s 1ms/step - loss: 0.4952 - mae: 0.4952 - mse: 0.6281 - val_loss: 0.5007 - val_mae: 0.5007 - val_mse: 0.6364\n",
            "Epoch 300/300\n",
            "3453/3453 [==============================] - 4s 1ms/step - loss: 0.4953 - mae: 0.4953 - mse: 0.6258 - val_loss: 0.5007 - val_mae: 0.5007 - val_mse: 0.6371\n"
          ],
          "name": "stdout"
        }
      ]
    },
    {
      "cell_type": "code",
      "metadata": {
        "colab": {
          "base_uri": "https://localhost:8080/"
        },
        "id": "1yGz7CDO87cZ",
        "outputId": "f8f4c343-29cf-41e0-db05-4b385de405e5"
      },
      "source": [
        "print(history)"
      ],
      "execution_count": 26,
      "outputs": [
        {
          "output_type": "stream",
          "text": [
            "<tensorflow.python.keras.callbacks.History object at 0x7fa7ba155750>\n"
          ],
          "name": "stdout"
        }
      ]
    },
    {
      "cell_type": "code",
      "metadata": {
        "colab": {
          "base_uri": "https://localhost:8080/"
        },
        "id": "N69L0M8K8_Gs",
        "outputId": "baefbdb6-fb68-4124-fc78-83e4ee7e8878"
      },
      "source": [
        "model.summary()"
      ],
      "execution_count": 27,
      "outputs": [
        {
          "output_type": "stream",
          "text": [
            "Model: \"sequential\"\n",
            "_________________________________________________________________\n",
            "Layer (type)                 Output Shape              Param #   \n",
            "=================================================================\n",
            "dense (Dense)                (None, 1)                 2         \n",
            "=================================================================\n",
            "Total params: 2\n",
            "Trainable params: 2\n",
            "Non-trainable params: 0\n",
            "_________________________________________________________________\n"
          ],
          "name": "stdout"
        }
      ]
    },
    {
      "cell_type": "code",
      "metadata": {
        "colab": {
          "base_uri": "https://localhost:8080/",
          "height": 1000
        },
        "id": "62T2ZSlD9E97",
        "outputId": "e6219c70-3085-460c-839f-66d27940dd30"
      },
      "source": [
        "# tempString = 'mse'\n",
        "def curvePlots(tempString):\n",
        "  plt.plot(history.history[tempString])\n",
        "  plt.plot(history.history[f'val_{tempString}'])\n",
        "  plt.xlabel('NumEpochs')\n",
        "  plt.ylabel(tempString)\n",
        "  plt.legend([tempString, f'val_{tempString}'])\n",
        "  plt.show()\n",
        "\n",
        "\n",
        "curvePlots('mse')\n",
        "curvePlots('mae')\n",
        "curvePlots('loss')"
      ],
      "execution_count": 28,
      "outputs": [
        {
          "output_type": "display_data",
          "data": {
            "image/png": "[encoded data removed]",
            "text/plain": [
              "<Figure size 576x396 with 1 Axes>"
            ]
          },
          "metadata": {
            "tags": []
          }
        },
        {
          "output_type": "display_data",
          "data": {
            "image/png": "[encoded data removed]",
            "text/plain": [
              "<Figure size 576x396 with 1 Axes>"
            ]
          },
          "metadata": {
            "tags": []
          }
        },
        {
          "output_type": "display_data",
          "data": {
            "image/png": "[encoded data removed]",
            "text/plain": [
              "<Figure size 576x396 with 1 Axes>"
            ]
          },
          "metadata": {
            "tags": []
          }
        }
      ]
    },
    {
      "cell_type": "code",
      "metadata": {
        "colab": {
          "base_uri": "https://localhost:8080/"
        },
        "id": "X2WoAkXj9MdL",
        "outputId": "4a89dca2-ae30-4251-da6c-5c58f8cccc37"
      },
      "source": [
        "model.predict([1])"
      ],
      "execution_count": 29,
      "outputs": [
        {
          "output_type": "execute_result",
          "data": {
            "text/plain": [
              "array([[1.0006934]], dtype=float32)"
            ]
          },
          "metadata": {
            "tags": []
          },
          "execution_count": 29
        }
      ]
    },
    {
      "cell_type": "code",
      "metadata": {
        "colab": {
          "base_uri": "https://localhost:8080/"
        },
        "id": "wdOnnEzW9UUK",
        "outputId": "9b8f593a-0939-4d7d-c14a-973a050a6b40"
      },
      "source": [
        "# testPreds = model.predict(testFeatures).flatten() #array of all prediction values\n",
        "\n",
        "#for single values\n",
        "\n",
        "print(f'Prediction for input value 1: {model.predict([1])}')\n",
        "\n",
        "\n",
        "# for a list of values\n",
        "tempListforPreds = [1,2,3,4,5]\n",
        "print(f'''\n",
        "\n",
        "input List = {tempListforPreds}\n",
        "\n",
        "\n",
        "List of Predictions:\n",
        "{model.predict(tempListforPreds)}\n",
        "\n",
        "List of Predictions (flattened out):\n",
        "{model.predict(tempListforPreds).flatten()}\n",
        "''')"
      ],
      "execution_count": 30,
      "outputs": [
        {
          "output_type": "stream",
          "text": [
            "Prediction for input value 1: [[1.0006934]]\n",
            "\n",
            "\n",
            "input List = [1, 2, 3, 4, 5]\n",
            "\n",
            "\n",
            "List of Predictions:\n",
            "[[1.0006934]\n",
            " [1.003616 ]\n",
            " [1.0065385]\n",
            " [1.0094609]\n",
            " [1.0123835]]\n",
            "\n",
            "List of Predictions (flattened out):\n",
            "[1.0006934 1.003616  1.0065385 1.0094609 1.0123835]\n",
            "\n"
          ],
          "name": "stdout"
        }
      ]
    },
    {
      "cell_type": "code",
      "metadata": {
        "colab": {
          "base_uri": "https://localhost:8080/"
        },
        "id": "1FAoCLbq9edb",
        "outputId": "d9befaa1-0394-4a02-9b6d-7a0ac046194a"
      },
      "source": [
        "print(testFeatures)"
      ],
      "execution_count": 31,
      "outputs": [
        {
          "output_type": "stream",
          "text": [
            "        IntakeType\n",
            "10               2\n",
            "13               1\n",
            "21               1\n",
            "30               2\n",
            "43               1\n",
            "...            ...\n",
            "124068           1\n",
            "124069           1\n",
            "124079           6\n",
            "124091           1\n",
            "124094           1\n",
            "\n",
            "[13653 rows x 1 columns]\n"
          ],
          "name": "stdout"
        }
      ]
    },
    {
      "cell_type": "code",
      "metadata": {
        "colab": {
          "base_uri": "https://localhost:8080/"
        },
        "id": "4jXxrlQT967b",
        "outputId": "08253e22-2a90-4797-bb65-f1fb201464d1"
      },
      "source": [
        "testPreds=model.predict(testFeatures).flatten()\n",
        "print(testPreds)"
      ],
      "execution_count": 32,
      "outputs": [
        {
          "output_type": "stream",
          "text": [
            "[1.003616  1.0006934 1.0006934 ... 1.015306  1.0006934 1.0006934]\n"
          ],
          "name": "stdout"
        }
      ]
    },
    {
      "cell_type": "code",
      "metadata": {
        "colab": {
          "base_uri": "https://localhost:8080/"
        },
        "id": "txW1Y_GX-CNl",
        "outputId": "7a41e795-7585-4ac9-806e-975a7a9195d1"
      },
      "source": [
        "print(len(testPreds))\n",
        "print(testPreds)"
      ],
      "execution_count": 33,
      "outputs": [
        {
          "output_type": "stream",
          "text": [
            "13653\n",
            "[1.003616  1.0006934 1.0006934 ... 1.015306  1.0006934 1.0006934]\n"
          ],
          "name": "stdout"
        }
      ]
    },
    {
      "cell_type": "code",
      "metadata": {
        "colab": {
          "base_uri": "https://localhost:8080/",
          "height": 361
        },
        "id": "uca27i_--F4-",
        "outputId": "63965597-8a07-40f1-acbb-9233104f8e62"
      },
      "source": [
        "# prediciton plot --> how well is your model predicting across the actual labels\n",
        "\n",
        "def predPlot(labels, predictions):\n",
        "  plt.scatter(labels, predictions)\n",
        "  plt.ylabel('Predictions')\n",
        "  plt.xlabel('True Value or Labels')\n",
        "  plt.axis('equal')\n",
        "  plt.axis('square')\n",
        "  plt.xlim([0, plt.xlim()[1]])\n",
        "  plt.ylim([0, plt.ylim()[1]])\n",
        "  plt.show()\n",
        "\n",
        "predPlot(testLabels, testPreds)\n"
      ],
      "execution_count": 34,
      "outputs": [
        {
          "output_type": "display_data",
          "data": {
            "image/png": "[encoded data removed]",
            "text/plain": [
              "<Figure size 576x396 with 1 Axes>"
            ]
          },
          "metadata": {
            "tags": []
          }
        }
      ]
    },
    {
      "cell_type": "code",
      "metadata": {
        "colab": {
          "base_uri": "https://localhost:8080/",
          "height": 361
        },
        "id": "GCMJQtpX-uqm",
        "outputId": "ad67982a-e11a-482b-e2e6-f812a2e74e5d"
      },
      "source": [
        "#error plot --> gaussian distribution \n",
        "\n",
        "def errorPlot(preds, labels, counts):\n",
        "  errors = preds - labels\n",
        "  plt.hist(errors, counts)\n",
        "  plt.xlabel('Error')\n",
        "  plt.ylabel('Counts')\n",
        "  plt.show()\n",
        "\n",
        "errorPlot(testPreds, testLabels, numEpochs)"
      ],
      "execution_count": 37,
      "outputs": [
        {
          "output_type": "display_data",
          "data": {
            "image/png": "[encoded data removed]",
            "text/plain": [
              "<Figure size 576x396 with 1 Axes>"
            ]
          },
          "metadata": {
            "tags": []
          }
        }
      ]
    },
    {
      "cell_type": "markdown",
      "metadata": {
        "id": "59blAVHf-3FJ"
      },
      "source": [
        "Note:\n",
        "\n",
        "Validation loss val_loss is a metric that tells you how much deviation from the actual label can you expect in the predicted label\n",
        "\n",
        "To optimize your predicitons -->\n",
        "\n",
        "Hyperparameter tuning --> numEpochs, optimizer, learning_rate, lossFunctions"
      ]
    }
  ]
}